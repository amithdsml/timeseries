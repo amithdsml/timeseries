{
 "cells": [
  {
   "cell_type": "markdown",
   "metadata": {
    "id": "tDpRBgr392kE"
   },
   "source": [
    "# Time SeriesForecasting - Semester End Exam - 80 marks"
   ]
  },
  {
   "cell_type": "markdown",
   "metadata": {},
   "source": [
    "# Section A Total 20 Marks"
   ]
  },
  {
   "cell_type": "markdown",
   "metadata": {},
   "source": [
    "### Q.1 Explain how will you estimate seasonality in a given time series.  (6 Marks)"
   ]
  },
  {
   "cell_type": "markdown",
   "metadata": {},
   "source": [
    "### Q.2 Describe  Holt-Winters smoothing procedure. (6 Marks)"
   ]
  },
  {
   "cell_type": "markdown",
   "metadata": {},
   "source": [
    "### Q.3 Discuss the properties of the ACF and PACF of time series process.. (8 Marks)"
   ]
  },
  {
   "cell_type": "markdown",
   "metadata": {},
   "source": [
    "# Section B Total 30 Marks"
   ]
  },
  {
   "cell_type": "markdown",
   "metadata": {
    "id": "Wb4GhWle92kL"
   },
   "source": [
    "### DATA_SET:"
   ]
  },
  {
   "cell_type": "markdown",
   "metadata": {},
   "source": [
    "Analytics firm wants to forecast the sale of product for the next three quarters. For this, firm has gathered a quarterly sales data for the period of Jan 2000 to Mar 2019."
   ]
  },
  {
   "cell_type": "markdown",
   "metadata": {
    "id": "2LED0-S192kT"
   },
   "source": [
    "* date ==\t\t\tdate field\t\n",
    "* Sales == \t    Sales (numeric)"
   ]
  },
  {
   "cell_type": "markdown",
   "metadata": {
    "id": "wVAVAxL_92k5"
   },
   "source": [
    "### Q.1\tData preparation (5 marks)\n",
    "\n",
    "\n",
    "a.\tRead the dataset (tab, csv, xls, txt, inbuilt dataset). What are the number of rows and no. of cols & types of variables? (1 MARK)\n",
    "\n",
    "b. convert the data into time series (2 MARK)\n",
    "\n",
    "\n",
    "c. Check for defects in the data such as missing values, null, etc. (1 MARK)\n",
    "\n",
    "d. Visualize the time series using relevant plots. (1 MARK)\n"
   ]
  },
  {
   "cell_type": "markdown",
   "metadata": {},
   "source": [
    "### Q.2 Data Understanding (15 marks) \n",
    "\n",
    "a. Decompose the time series and check for components of time series. (4 MARKS)\n",
    "\n",
    "b. Perform dicky fuller test to check the stationarity? What other actions will you take if series is non-stationary? (3+2 MARKS)\n",
    "\n",
    "c. Plot AutoCorrelation and Partial AutoCorrelation function? What is your inference from these plots?  (3+3 MARKS)"
   ]
  },
  {
   "cell_type": "markdown",
   "metadata": {},
   "source": [
    "### Q.3 Model Building (10 marks)\n",
    "\n",
    "a. Split dataset into train and test sets. Use last two months of data for testing. (2 marks)\n",
    "\n",
    "b. Fit ARIMA model and observe the RMSE and MAPE values of the model for test data.(8 marks)"
   ]
  },
  {
   "cell_type": "markdown",
   "metadata": {},
   "source": [
    "# Section C Total 30 Marks"
   ]
  },
  {
   "cell_type": "markdown",
   "metadata": {},
   "source": [
    "### Q.1 Model Improvement\n",
    "\n",
    "a. Fit exponential smoothing model and observe the residuals, RMSE and MAPE values of the model for test data. (10 MARKS)\n",
    "\n",
    "b. How would you improve the exponential smoothing model? Make the changes and Fit the final exponential smoothing model. (10 MARKS)\n",
    "\n",
    "c. Analyze the residuals of this final model. Feel free to use charts or graphs to explain. (5 MARKS)\n",
    "\n",
    "d. Forecast the stock closing price for next 1 months using the final model? (5 MARKS)"
   ]
  },
  {
   "cell_type": "markdown",
   "metadata": {},
   "source": [
    "# END"
   ]
  }
 ],
 "metadata": {
  "colab": {
   "collapsed_sections": [],
   "name": "ML_1_40_MARKS_SET_2_EXAM_Paper.ipynb",
   "provenance": [],
   "toc_visible": true
  },
  "kernelspec": {
   "display_name": "Python 3",
   "language": "python",
   "name": "python3"
  },
  "language_info": {
   "codemirror_mode": {
    "name": "ipython",
    "version": 3
   },
   "file_extension": ".py",
   "mimetype": "text/x-python",
   "name": "python",
   "nbconvert_exporter": "python",
   "pygments_lexer": "ipython3",
   "version": "3.8.5"
  }
 },
 "nbformat": 4,
 "nbformat_minor": 1
}
