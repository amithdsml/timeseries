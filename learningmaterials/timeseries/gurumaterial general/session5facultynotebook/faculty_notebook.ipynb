{
 "cells": [
  {
   "cell_type": "markdown",
   "metadata": {},
   "source": [
    "## Import required libraries"
   ]
  },
  {
   "cell_type": "code",
   "execution_count": 1,
   "metadata": {},
   "outputs": [],
   "source": [
    "import pandas                             as      pd\n",
    "import numpy                              as      np\n",
    "import matplotlib.pyplot                  as      plt\n",
    "import seaborn                            as      sns\n",
    "from   IPython.display                    import  display\n",
    "from   pylab                              import  rcParams \n",
    "from   datetime                           import  datetime, timedelta\n",
    "from sklearn                              import  metrics\n",
    "from statsmodels.tsa.vector_ar.vecm       import  coint_johansen\n",
    "from statsmodels.tsa.stattools            import  adfuller\n",
    "from statsmodels.tsa.stattools            import  pacf\n",
    "from statsmodels.tsa.stattools            import  acf\n",
    "from statsmodels.graphics.tsaplots        import  plot_pacf\n",
    "from statsmodels.graphics.tsaplots        import  plot_acf\n",
    "from statsmodels.tsa.api                  import  VAR\n",
    "from statsmodels.tsa.statespace.varmax    import  VARMAX\n",
    "import warnings\n",
    "warnings.filterwarnings('ignore')\n",
    "%matplotlib inline"
   ]
  },
  {
   "cell_type": "markdown",
   "metadata": {},
   "source": [
    "## read Stock Price data"
   ]
  },
  {
   "cell_type": "code",
   "execution_count": 2,
   "metadata": {},
   "outputs": [],
   "source": [
    "df=pd.read_csv('varma_data.csv')"
   ]
  },
  {
   "cell_type": "code",
   "execution_count": 3,
   "metadata": {},
   "outputs": [
    {
     "data": {
      "text/html": [
       "<div>\n",
       "<style scoped>\n",
       "    .dataframe tbody tr th:only-of-type {\n",
       "        vertical-align: middle;\n",
       "    }\n",
       "\n",
       "    .dataframe tbody tr th {\n",
       "        vertical-align: top;\n",
       "    }\n",
       "\n",
       "    .dataframe thead th {\n",
       "        text-align: right;\n",
       "    }\n",
       "</style>\n",
       "<table border=\"1\" class=\"dataframe\">\n",
       "  <thead>\n",
       "    <tr style=\"text-align: right;\">\n",
       "      <th></th>\n",
       "      <th>Date</th>\n",
       "      <th>Open</th>\n",
       "      <th>High</th>\n",
       "      <th>Low</th>\n",
       "      <th>Close</th>\n",
       "      <th>Adj Close</th>\n",
       "      <th>Volume</th>\n",
       "    </tr>\n",
       "  </thead>\n",
       "  <tbody>\n",
       "    <tr>\n",
       "      <th>0</th>\n",
       "      <td>2016-01-14</td>\n",
       "      <td>16159.009766</td>\n",
       "      <td>16482.050781</td>\n",
       "      <td>16075.120117</td>\n",
       "      <td>16379.049805</td>\n",
       "      <td>16379.049805</td>\n",
       "      <td>158830000</td>\n",
       "    </tr>\n",
       "    <tr>\n",
       "      <th>1</th>\n",
       "      <td>2016-01-15</td>\n",
       "      <td>16354.330078</td>\n",
       "      <td>16354.330078</td>\n",
       "      <td>15842.110352</td>\n",
       "      <td>15988.080078</td>\n",
       "      <td>15988.080078</td>\n",
       "      <td>239210000</td>\n",
       "    </tr>\n",
       "    <tr>\n",
       "      <th>2</th>\n",
       "      <td>2016-01-19</td>\n",
       "      <td>16009.450195</td>\n",
       "      <td>16171.959961</td>\n",
       "      <td>15900.250000</td>\n",
       "      <td>16016.019531</td>\n",
       "      <td>16016.019531</td>\n",
       "      <td>144360000</td>\n",
       "    </tr>\n",
       "    <tr>\n",
       "      <th>3</th>\n",
       "      <td>2016-01-20</td>\n",
       "      <td>15989.450195</td>\n",
       "      <td>15989.450195</td>\n",
       "      <td>15450.559570</td>\n",
       "      <td>15766.740234</td>\n",
       "      <td>15766.740234</td>\n",
       "      <td>191870000</td>\n",
       "    </tr>\n",
       "    <tr>\n",
       "      <th>4</th>\n",
       "      <td>2016-01-21</td>\n",
       "      <td>15768.870117</td>\n",
       "      <td>16038.589844</td>\n",
       "      <td>15704.660156</td>\n",
       "      <td>15882.679688</td>\n",
       "      <td>15882.679688</td>\n",
       "      <td>145140000</td>\n",
       "    </tr>\n",
       "  </tbody>\n",
       "</table>\n",
       "</div>"
      ],
      "text/plain": [
       "         Date          Open          High           Low         Close  \\\n",
       "0  2016-01-14  16159.009766  16482.050781  16075.120117  16379.049805   \n",
       "1  2016-01-15  16354.330078  16354.330078  15842.110352  15988.080078   \n",
       "2  2016-01-19  16009.450195  16171.959961  15900.250000  16016.019531   \n",
       "3  2016-01-20  15989.450195  15989.450195  15450.559570  15766.740234   \n",
       "4  2016-01-21  15768.870117  16038.589844  15704.660156  15882.679688   \n",
       "\n",
       "      Adj Close     Volume  \n",
       "0  16379.049805  158830000  \n",
       "1  15988.080078  239210000  \n",
       "2  16016.019531  144360000  \n",
       "3  15766.740234  191870000  \n",
       "4  15882.679688  145140000  "
      ]
     },
     "execution_count": 3,
     "metadata": {},
     "output_type": "execute_result"
    }
   ],
   "source": [
    "df.head()"
   ]
  },
  {
   "cell_type": "code",
   "execution_count": 4,
   "metadata": {},
   "outputs": [
    {
     "data": {
      "text/html": [
       "<div>\n",
       "<style scoped>\n",
       "    .dataframe tbody tr th:only-of-type {\n",
       "        vertical-align: middle;\n",
       "    }\n",
       "\n",
       "    .dataframe tbody tr th {\n",
       "        vertical-align: top;\n",
       "    }\n",
       "\n",
       "    .dataframe thead th {\n",
       "        text-align: right;\n",
       "    }\n",
       "</style>\n",
       "<table border=\"1\" class=\"dataframe\">\n",
       "  <thead>\n",
       "    <tr style=\"text-align: right;\">\n",
       "      <th></th>\n",
       "      <th>Date</th>\n",
       "      <th>Open</th>\n",
       "      <th>High</th>\n",
       "      <th>Low</th>\n",
       "      <th>Close</th>\n",
       "      <th>Adj Close</th>\n",
       "      <th>Volume</th>\n",
       "    </tr>\n",
       "  </thead>\n",
       "  <tbody>\n",
       "    <tr>\n",
       "      <th>1001</th>\n",
       "      <td>2020-01-07</td>\n",
       "      <td>28639.179688</td>\n",
       "      <td>28685.500000</td>\n",
       "      <td>28565.279297</td>\n",
       "      <td>28583.679688</td>\n",
       "      <td>28583.679688</td>\n",
       "      <td>258900000</td>\n",
       "    </tr>\n",
       "    <tr>\n",
       "      <th>1002</th>\n",
       "      <td>2020-01-08</td>\n",
       "      <td>28556.140625</td>\n",
       "      <td>28866.179688</td>\n",
       "      <td>28522.509766</td>\n",
       "      <td>28745.089844</td>\n",
       "      <td>28745.089844</td>\n",
       "      <td>291750000</td>\n",
       "    </tr>\n",
       "    <tr>\n",
       "      <th>1003</th>\n",
       "      <td>2020-01-09</td>\n",
       "      <td>28851.970703</td>\n",
       "      <td>28988.009766</td>\n",
       "      <td>28844.310547</td>\n",
       "      <td>28956.900391</td>\n",
       "      <td>28956.900391</td>\n",
       "      <td>275060000</td>\n",
       "    </tr>\n",
       "    <tr>\n",
       "      <th>1004</th>\n",
       "      <td>2020-01-10</td>\n",
       "      <td>28977.519531</td>\n",
       "      <td>29009.070313</td>\n",
       "      <td>28789.099609</td>\n",
       "      <td>28823.769531</td>\n",
       "      <td>28823.769531</td>\n",
       "      <td>237830000</td>\n",
       "    </tr>\n",
       "    <tr>\n",
       "      <th>1005</th>\n",
       "      <td>2020-01-13</td>\n",
       "      <td>28869.009766</td>\n",
       "      <td>28909.910156</td>\n",
       "      <td>28819.429688</td>\n",
       "      <td>28907.050781</td>\n",
       "      <td>28907.050781</td>\n",
       "      <td>249830000</td>\n",
       "    </tr>\n",
       "  </tbody>\n",
       "</table>\n",
       "</div>"
      ],
      "text/plain": [
       "            Date          Open          High           Low         Close  \\\n",
       "1001  2020-01-07  28639.179688  28685.500000  28565.279297  28583.679688   \n",
       "1002  2020-01-08  28556.140625  28866.179688  28522.509766  28745.089844   \n",
       "1003  2020-01-09  28851.970703  28988.009766  28844.310547  28956.900391   \n",
       "1004  2020-01-10  28977.519531  29009.070313  28789.099609  28823.769531   \n",
       "1005  2020-01-13  28869.009766  28909.910156  28819.429688  28907.050781   \n",
       "\n",
       "         Adj Close     Volume  \n",
       "1001  28583.679688  258900000  \n",
       "1002  28745.089844  291750000  \n",
       "1003  28956.900391  275060000  \n",
       "1004  28823.769531  237830000  \n",
       "1005  28907.050781  249830000  "
      ]
     },
     "execution_count": 4,
     "metadata": {},
     "output_type": "execute_result"
    }
   ],
   "source": [
    "df.tail()"
   ]
  },
  {
   "cell_type": "markdown",
   "metadata": {},
   "source": [
    "## convert data into time series"
   ]
  },
  {
   "cell_type": "code",
   "execution_count": 5,
   "metadata": {},
   "outputs": [
    {
     "data": {
      "text/plain": [
       "DatetimeIndex(['2016-01-14', '2016-01-15', '2016-01-18', '2016-01-19',\n",
       "               '2016-01-20', '2016-01-21', '2016-01-22', '2016-01-25',\n",
       "               '2016-01-26', '2016-01-27',\n",
       "               ...\n",
       "               '2019-12-31', '2020-01-01', '2020-01-02', '2020-01-03',\n",
       "               '2020-01-06', '2020-01-07', '2020-01-08', '2020-01-09',\n",
       "               '2020-01-10', '2020-01-13'],\n",
       "              dtype='datetime64[ns]', length=1043, freq='B')"
      ]
     },
     "execution_count": 5,
     "metadata": {},
     "output_type": "execute_result"
    }
   ],
   "source": [
    "date = pd.date_range(start='1/14/2016', end='1/13/2020', freq='B')\n",
    "date"
   ]
  },
  {
   "cell_type": "code",
   "execution_count": 6,
   "metadata": {},
   "outputs": [],
   "source": [
    "df['Time_Stamp'] = pd.DataFrame(date)\n",
    "df=df.set_index('Time_Stamp')"
   ]
  },
  {
   "cell_type": "code",
   "execution_count": 7,
   "metadata": {},
   "outputs": [
    {
     "data": {
      "text/html": [
       "<div>\n",
       "<style scoped>\n",
       "    .dataframe tbody tr th:only-of-type {\n",
       "        vertical-align: middle;\n",
       "    }\n",
       "\n",
       "    .dataframe tbody tr th {\n",
       "        vertical-align: top;\n",
       "    }\n",
       "\n",
       "    .dataframe thead th {\n",
       "        text-align: right;\n",
       "    }\n",
       "</style>\n",
       "<table border=\"1\" class=\"dataframe\">\n",
       "  <thead>\n",
       "    <tr style=\"text-align: right;\">\n",
       "      <th></th>\n",
       "      <th>Date</th>\n",
       "      <th>Open</th>\n",
       "      <th>High</th>\n",
       "      <th>Low</th>\n",
       "      <th>Close</th>\n",
       "      <th>Adj Close</th>\n",
       "      <th>Volume</th>\n",
       "    </tr>\n",
       "    <tr>\n",
       "      <th>Time_Stamp</th>\n",
       "      <th></th>\n",
       "      <th></th>\n",
       "      <th></th>\n",
       "      <th></th>\n",
       "      <th></th>\n",
       "      <th></th>\n",
       "      <th></th>\n",
       "    </tr>\n",
       "  </thead>\n",
       "  <tbody>\n",
       "    <tr>\n",
       "      <th>2016-01-14</th>\n",
       "      <td>2016-01-14</td>\n",
       "      <td>16159.009766</td>\n",
       "      <td>16482.050781</td>\n",
       "      <td>16075.120117</td>\n",
       "      <td>16379.049805</td>\n",
       "      <td>16379.049805</td>\n",
       "      <td>158830000</td>\n",
       "    </tr>\n",
       "    <tr>\n",
       "      <th>2016-01-15</th>\n",
       "      <td>2016-01-15</td>\n",
       "      <td>16354.330078</td>\n",
       "      <td>16354.330078</td>\n",
       "      <td>15842.110352</td>\n",
       "      <td>15988.080078</td>\n",
       "      <td>15988.080078</td>\n",
       "      <td>239210000</td>\n",
       "    </tr>\n",
       "    <tr>\n",
       "      <th>2016-01-18</th>\n",
       "      <td>2016-01-19</td>\n",
       "      <td>16009.450195</td>\n",
       "      <td>16171.959961</td>\n",
       "      <td>15900.250000</td>\n",
       "      <td>16016.019531</td>\n",
       "      <td>16016.019531</td>\n",
       "      <td>144360000</td>\n",
       "    </tr>\n",
       "    <tr>\n",
       "      <th>2016-01-19</th>\n",
       "      <td>2016-01-20</td>\n",
       "      <td>15989.450195</td>\n",
       "      <td>15989.450195</td>\n",
       "      <td>15450.559570</td>\n",
       "      <td>15766.740234</td>\n",
       "      <td>15766.740234</td>\n",
       "      <td>191870000</td>\n",
       "    </tr>\n",
       "    <tr>\n",
       "      <th>2016-01-20</th>\n",
       "      <td>2016-01-21</td>\n",
       "      <td>15768.870117</td>\n",
       "      <td>16038.589844</td>\n",
       "      <td>15704.660156</td>\n",
       "      <td>15882.679688</td>\n",
       "      <td>15882.679688</td>\n",
       "      <td>145140000</td>\n",
       "    </tr>\n",
       "  </tbody>\n",
       "</table>\n",
       "</div>"
      ],
      "text/plain": [
       "                  Date          Open          High           Low  \\\n",
       "Time_Stamp                                                         \n",
       "2016-01-14  2016-01-14  16159.009766  16482.050781  16075.120117   \n",
       "2016-01-15  2016-01-15  16354.330078  16354.330078  15842.110352   \n",
       "2016-01-18  2016-01-19  16009.450195  16171.959961  15900.250000   \n",
       "2016-01-19  2016-01-20  15989.450195  15989.450195  15450.559570   \n",
       "2016-01-20  2016-01-21  15768.870117  16038.589844  15704.660156   \n",
       "\n",
       "                   Close     Adj Close     Volume  \n",
       "Time_Stamp                                         \n",
       "2016-01-14  16379.049805  16379.049805  158830000  \n",
       "2016-01-15  15988.080078  15988.080078  239210000  \n",
       "2016-01-18  16016.019531  16016.019531  144360000  \n",
       "2016-01-19  15766.740234  15766.740234  191870000  \n",
       "2016-01-20  15882.679688  15882.679688  145140000  "
      ]
     },
     "execution_count": 7,
     "metadata": {},
     "output_type": "execute_result"
    }
   ],
   "source": [
    "df.head()"
   ]
  },
  {
   "cell_type": "code",
   "execution_count": 8,
   "metadata": {},
   "outputs": [],
   "source": [
    "df.drop(['Date','Adj Close','Volume'],axis=1,inplace=True)"
   ]
  },
  {
   "cell_type": "markdown",
   "metadata": {},
   "source": [
    "## plot the time series"
   ]
  },
  {
   "cell_type": "code",
   "execution_count": 9,
   "metadata": {},
   "outputs": [
    {
     "data": {
      "text/plain": [
       "<AxesSubplot:xlabel='Time_Stamp'>"
      ]
     },
     "execution_count": 9,
     "metadata": {},
     "output_type": "execute_result"
    },
    {
     "data": {
      "image/png": "[encoded data removed]",
      "text/plain": [
       "<Figure size 1080x576 with 1 Axes>"
      ]
     },
     "metadata": {
      "needs_background": "light"
     },
     "output_type": "display_data"
    }
   ],
   "source": [
    "rcParams['figure.figsize'] = 15,8\n",
    "df.plot()"
   ]
  },
  {
   "cell_type": "markdown",
   "metadata": {},
   "source": [
    "## check for stationarity"
   ]
  },
  {
   "cell_type": "code",
   "execution_count": 10,
   "metadata": {},
   "outputs": [],
   "source": [
    "def adfuller_test(series,name=''):\n",
    "    observations= series.values\n",
    "    test_result = adfuller(observations)\n",
    "    print(f'    Augmented Dickey-Fuller Test on \"{name}\"', \"\\n   \", '-'*47)\n",
    "    print('ADF Statistic: %f' % test_result[0])\n",
    "    print('p-value: %f' % test_result[1])\n",
    "    print('Critical Values:')\n",
    "    for key, value in test_result[4].items():\n",
    "            \tprint('\\t%s: %.5f' % (key, value))"
   ]
  },
  {
   "cell_type": "code",
   "execution_count": 11,
   "metadata": {},
   "outputs": [
    {
     "name": "stdout",
     "output_type": "stream",
     "text": [
      "    Augmented Dickey-Fuller Test on \"Open\" \n",
      "    -----------------------------------------------\n",
      "ADF Statistic: -1.097089\n",
      "p-value: 0.716231\n",
      "Critical Values:\n",
      "\t1%: -3.43702\n",
      "\t5%: -2.86448\n",
      "\t10%: -2.56834\n",
      "\n",
      "\n",
      "    Augmented Dickey-Fuller Test on \"High\" \n",
      "    -----------------------------------------------\n",
      "ADF Statistic: -1.005190\n",
      "p-value: 0.751367\n",
      "Critical Values:\n",
      "\t1%: -3.43688\n",
      "\t5%: -2.86442\n",
      "\t10%: -2.56831\n",
      "\n",
      "\n",
      "    Augmented Dickey-Fuller Test on \"Low\" \n",
      "    -----------------------------------------------\n",
      "ADF Statistic: -1.147396\n",
      "p-value: 0.695806\n",
      "Critical Values:\n",
      "\t1%: -3.43701\n",
      "\t5%: -2.86448\n",
      "\t10%: -2.56834\n",
      "\n",
      "\n",
      "    Augmented Dickey-Fuller Test on \"Close\" \n",
      "    -----------------------------------------------\n",
      "ADF Statistic: -1.015406\n",
      "p-value: 0.747604\n",
      "Critical Values:\n",
      "\t1%: -3.43687\n",
      "\t5%: -2.86442\n",
      "\t10%: -2.56830\n",
      "\n",
      "\n"
     ]
    }
   ],
   "source": [
    "for name, column in df.iteritems():\n",
    "    adfuller_test(column,name=column.name)\n",
    "    print('\\n')"
   ]
  },
  {
   "cell_type": "markdown",
   "metadata": {},
   "source": [
    "## If series is not stationary, use differencing to make the series stationary"
   ]
  },
  {
   "cell_type": "code",
   "execution_count": 12,
   "metadata": {},
   "outputs": [],
   "source": [
    "df_diff = df.diff().dropna()"
   ]
  },
  {
   "cell_type": "code",
   "execution_count": 13,
   "metadata": {},
   "outputs": [
    {
     "data": {
      "text/html": [
       "<div>\n",
       "<style scoped>\n",
       "    .dataframe tbody tr th:only-of-type {\n",
       "        vertical-align: middle;\n",
       "    }\n",
       "\n",
       "    .dataframe tbody tr th {\n",
       "        vertical-align: top;\n",
       "    }\n",
       "\n",
       "    .dataframe thead th {\n",
       "        text-align: right;\n",
       "    }\n",
       "</style>\n",
       "<table border=\"1\" class=\"dataframe\">\n",
       "  <thead>\n",
       "    <tr style=\"text-align: right;\">\n",
       "      <th></th>\n",
       "      <th>Open</th>\n",
       "      <th>High</th>\n",
       "      <th>Low</th>\n",
       "      <th>Close</th>\n",
       "    </tr>\n",
       "    <tr>\n",
       "      <th>Time_Stamp</th>\n",
       "      <th></th>\n",
       "      <th></th>\n",
       "      <th></th>\n",
       "      <th></th>\n",
       "    </tr>\n",
       "  </thead>\n",
       "  <tbody>\n",
       "    <tr>\n",
       "      <th>2016-01-15</th>\n",
       "      <td>195.320312</td>\n",
       "      <td>-127.720703</td>\n",
       "      <td>-233.009765</td>\n",
       "      <td>-390.969727</td>\n",
       "    </tr>\n",
       "    <tr>\n",
       "      <th>2016-01-18</th>\n",
       "      <td>-344.879883</td>\n",
       "      <td>-182.370117</td>\n",
       "      <td>58.139648</td>\n",
       "      <td>27.939453</td>\n",
       "    </tr>\n",
       "    <tr>\n",
       "      <th>2016-01-19</th>\n",
       "      <td>-20.000000</td>\n",
       "      <td>-182.509766</td>\n",
       "      <td>-449.690430</td>\n",
       "      <td>-249.279297</td>\n",
       "    </tr>\n",
       "    <tr>\n",
       "      <th>2016-01-20</th>\n",
       "      <td>-220.580078</td>\n",
       "      <td>49.139649</td>\n",
       "      <td>254.100586</td>\n",
       "      <td>115.939454</td>\n",
       "    </tr>\n",
       "    <tr>\n",
       "      <th>2016-01-21</th>\n",
       "      <td>152.229492</td>\n",
       "      <td>98.200195</td>\n",
       "      <td>216.439453</td>\n",
       "      <td>210.830078</td>\n",
       "    </tr>\n",
       "  </tbody>\n",
       "</table>\n",
       "</div>"
      ],
      "text/plain": [
       "                  Open        High         Low       Close\n",
       "Time_Stamp                                                \n",
       "2016-01-15  195.320312 -127.720703 -233.009765 -390.969727\n",
       "2016-01-18 -344.879883 -182.370117   58.139648   27.939453\n",
       "2016-01-19  -20.000000 -182.509766 -449.690430 -249.279297\n",
       "2016-01-20 -220.580078   49.139649  254.100586  115.939454\n",
       "2016-01-21  152.229492   98.200195  216.439453  210.830078"
      ]
     },
     "execution_count": 13,
     "metadata": {},
     "output_type": "execute_result"
    }
   ],
   "source": [
    "df_diff.head()"
   ]
  },
  {
   "cell_type": "code",
   "execution_count": 14,
   "metadata": {},
   "outputs": [
    {
     "name": "stdout",
     "output_type": "stream",
     "text": [
      "    Augmented Dickey-Fuller Test on \"Open\" \n",
      "    -----------------------------------------------\n",
      "ADF Statistic: -6.981338\n",
      "p-value: 0.000000\n",
      "Critical Values:\n",
      "\t1%: -3.43703\n",
      "\t5%: -2.86449\n",
      "\t10%: -2.56834\n",
      "\n",
      "\n",
      "    Augmented Dickey-Fuller Test on \"High\" \n",
      "    -----------------------------------------------\n",
      "ADF Statistic: -30.177626\n",
      "p-value: 0.000000\n",
      "Critical Values:\n",
      "\t1%: -3.43688\n",
      "\t5%: -2.86442\n",
      "\t10%: -2.56831\n",
      "\n",
      "\n",
      "    Augmented Dickey-Fuller Test on \"Low\" \n",
      "    -----------------------------------------------\n",
      "ADF Statistic: -7.435368\n",
      "p-value: 0.000000\n",
      "Critical Values:\n",
      "\t1%: -3.43701\n",
      "\t5%: -2.86448\n",
      "\t10%: -2.56834\n",
      "\n",
      "\n",
      "    Augmented Dickey-Fuller Test on \"Close\" \n",
      "    -----------------------------------------------\n",
      "ADF Statistic: -32.558297\n",
      "p-value: 0.000000\n",
      "Critical Values:\n",
      "\t1%: -3.43688\n",
      "\t5%: -2.86442\n",
      "\t10%: -2.56831\n",
      "\n",
      "\n"
     ]
    }
   ],
   "source": [
    "for name, column in df_diff.iteritems():\n",
    "    adfuller_test(column,name=column.name)\n",
    "    print('\\n')"
   ]
  },
  {
   "cell_type": "markdown",
   "metadata": {},
   "source": [
    "## establish the presence of a statistically significant connection between time series variables using Cointegration test for alpha= 0.05."
   ]
  },
  {
   "cell_type": "code",
   "execution_count": 15,
   "metadata": {},
   "outputs": [],
   "source": [
    "out = coint_johansen(df,1,1)"
   ]
  },
  {
   "cell_type": "code",
   "execution_count": 16,
   "metadata": {},
   "outputs": [
    {
     "data": {
      "text/plain": [
       "<statsmodels.tsa.vector_ar.vecm.JohansenTestResult at 0x23c386460a0>"
      ]
     },
     "execution_count": 16,
     "metadata": {},
     "output_type": "execute_result"
    }
   ],
   "source": [
    "out"
   ]
  },
  {
   "cell_type": "code",
   "execution_count": 17,
   "metadata": {},
   "outputs": [
    {
     "data": {
      "text/plain": [
       "array([1186.34616045,  561.68580257,  133.36365421,    9.56472129])"
      ]
     },
     "execution_count": 17,
     "metadata": {},
     "output_type": "execute_result"
    }
   ],
   "source": [
    "out.lr1"
   ]
  },
  {
   "cell_type": "code",
   "execution_count": 20,
   "metadata": {
    "scrolled": true
   },
   "outputs": [
    {
     "data": {
      "text/plain": [
       "array([[51.6492, 55.2459, 62.5202],\n",
       "       [32.0645, 35.0116, 41.0815],\n",
       "       [16.1619, 18.3985, 23.1485],\n",
       "       [ 2.7055,  3.8415,  6.6349]])"
      ]
     },
     "execution_count": 20,
     "metadata": {},
     "output_type": "execute_result"
    }
   ],
   "source": [
    "out.cvt"
   ]
  },
  {
   "cell_type": "code",
   "execution_count": null,
   "metadata": {},
   "outputs": [],
   "source": [
    "#lr1:-trace values (sum of eigen values)\n",
    "#lr2:-max eigen values\n",
    "\n",
    "\n",
    "#cvt:-critical values for traces\n",
    "#cvm:-critical values for max eigen value"
   ]
  },
  {
   "cell_type": "code",
   "execution_count": 21,
   "metadata": {},
   "outputs": [
    {
     "data": {
      "text/plain": [
       "array([624.66035788, 428.32214836, 123.79893293,   9.56472129])"
      ]
     },
     "execution_count": 21,
     "metadata": {},
     "output_type": "execute_result"
    }
   ],
   "source": [
    "out.lr2"
   ]
  },
  {
   "cell_type": "code",
   "execution_count": 22,
   "metadata": {},
   "outputs": [
    {
     "data": {
      "text/plain": [
       "array([[28.2398, 30.8151, 36.193 ],\n",
       "       [21.8731, 24.2522, 29.2631],\n",
       "       [15.0006, 17.1481, 21.7465],\n",
       "       [ 2.7055,  3.8415,  6.6349]])"
      ]
     },
     "execution_count": 22,
     "metadata": {},
     "output_type": "execute_result"
    }
   ],
   "source": [
    "out.cvm"
   ]
  },
  {
   "cell_type": "code",
   "execution_count": null,
   "metadata": {},
   "outputs": [],
   "source": [
    "out.cvm[:,1]"
   ]
  },
  {
   "cell_type": "code",
   "execution_count": 24,
   "metadata": {},
   "outputs": [
    {
     "name": "stdout",
     "output_type": "stream",
     "text": [
      "Name   ::  Test Stat > C(95%)    =>   Signif  \n",
      " ----------------------------------------\n",
      "Open       ::  1186.35   > 62.5202   =>   True\n",
      "High       ::  561.69    > 41.0815   =>   True\n",
      "Low        ::  133.36    > 23.1485   =>   True\n",
      "Close      ::  9.56      > 6.6349    =>   True\n"
     ]
    }
   ],
   "source": [
    "def cointegration_test(df, alpha=0.01): \n",
    "    out = coint_johansen(df,1,1)\n",
    "    d = {'0.90':0, '0.95':1,'0.99':2}\n",
    "    traces = out.lr1\n",
    "    cvts = out.cvt[:, d[str(1-alpha)]] #cvts=out.cvt[:,1]\n",
    "    def adjust(val, length= 10): return str(val).ljust(length)\n",
    "    print('Name   ::  Test Stat > C(95%)    =>   Signif  \\n', '--'*20)\n",
    "    for col, trace, cvt in zip(df.columns, traces, cvts):\n",
    "        print(adjust(col), ':: ', adjust(round(trace,2), 9), \">\", adjust(cvt, 8), ' =>  ' , trace > cvt)\n",
    "\n",
    "cointegration_test(df)"
   ]
  },
  {
   "cell_type": "markdown",
   "metadata": {},
   "source": [
    "## split the series into training and testing sets"
   ]
  },
  {
   "cell_type": "code",
   "execution_count": 10,
   "metadata": {},
   "outputs": [],
   "source": [
    "train_end=datetime(2019,7,31)\n",
    "test_end=datetime(2020,1,13)"
   ]
  },
  {
   "cell_type": "code",
   "execution_count": 11,
   "metadata": {},
   "outputs": [],
   "source": [
    "train             = df[:train_end] \n",
    "test              = df[train_end + timedelta(days=1):test_end]"
   ]
  },
  {
   "cell_type": "code",
   "execution_count": 12,
   "metadata": {
    "scrolled": true
   },
   "outputs": [
    {
     "data": {
      "text/plain": [
       "(925, 4)"
      ]
     },
     "execution_count": 12,
     "metadata": {},
     "output_type": "execute_result"
    }
   ],
   "source": [
    "train.shape"
   ]
  },
  {
   "cell_type": "code",
   "execution_count": 13,
   "metadata": {},
   "outputs": [
    {
     "data": {
      "text/plain": [
       "(81, 4)"
      ]
     },
     "execution_count": 13,
     "metadata": {},
     "output_type": "execute_result"
    }
   ],
   "source": [
    "test.shape"
   ]
  },
  {
   "cell_type": "code",
   "execution_count": 14,
   "metadata": {},
   "outputs": [],
   "source": [
    "train1=train.diff().dropna()"
   ]
  },
  {
   "cell_type": "code",
   "execution_count": 30,
   "metadata": {},
   "outputs": [
    {
     "data": {
      "text/plain": [
       "35.73446676709522"
      ]
     },
     "execution_count": 30,
     "metadata": {},
     "output_type": "execute_result"
    }
   ],
   "source": [
    "model=VAR(train1)\n",
    "result=model.fit(4)\n",
    "result.aic"
   ]
  },
  {
   "cell_type": "code",
   "execution_count": 31,
   "metadata": {
    "scrolled": false
   },
   "outputs": [
    {
     "data": {
      "text/plain": [
       "  Summary of Regression Results   \n",
       "==================================\n",
       "Model:                         VAR\n",
       "Method:                        OLS\n",
       "Date:           Sun, 03, Oct, 2021\n",
       "Time:                     12:33:12\n",
       "--------------------------------------------------------------------\n",
       "No. of Equations:         4.00000    BIC:                    36.0911\n",
       "Nobs:                     920.000    HQIC:                   35.8705\n",
       "Log likelihood:          -21591.5    FPE:                3.30589e+15\n",
       "AIC:                      35.7345    Det(Omega_mle):     3.07243e+15\n",
       "--------------------------------------------------------------------\n",
       "Results for equation Open\n",
       "===========================================================================\n",
       "              coefficient       std. error           t-stat            prob\n",
       "---------------------------------------------------------------------------\n",
       "const            3.166560         2.682468            1.180           0.238\n",
       "L1.Open         -0.672879         0.058412          -11.520           0.000\n",
       "L1.High         -0.073208         0.046646           -1.569           0.117\n",
       "L1.Low           0.011297         0.037823            0.299           0.765\n",
       "L1.Close         0.946148         0.036550           25.886           0.000\n",
       "L2.Open         -0.391247         0.069530           -5.627           0.000\n",
       "L2.High         -0.006468         0.058556           -0.110           0.912\n",
       "L2.Low          -0.087728         0.044833           -1.957           0.050\n",
       "L2.Close         0.712355         0.052023           13.693           0.000\n",
       "L3.Open         -0.177205         0.064977           -2.727           0.006\n",
       "L3.High         -0.060026         0.058342           -1.029           0.304\n",
       "L3.Low          -0.037394         0.044751           -0.836           0.403\n",
       "L3.Close         0.454641         0.054782            8.299           0.000\n",
       "L4.Open         -0.057723         0.036395           -1.586           0.113\n",
       "L4.High         -0.011755         0.045589           -0.258           0.797\n",
       "L4.Low          -0.029438         0.036105           -0.815           0.415\n",
       "L4.Close         0.210464         0.047432            4.437           0.000\n",
       "===========================================================================\n",
       "\n",
       "Results for equation High\n",
       "===========================================================================\n",
       "              coefficient       std. error           t-stat            prob\n",
       "---------------------------------------------------------------------------\n",
       "const            8.902493         4.177981            2.131           0.033\n",
       "L1.Open          0.225925         0.090977            2.483           0.013\n",
       "L1.High         -0.916328         0.072651          -12.613           0.000\n",
       "L1.Low          -0.132988         0.058910           -2.257           0.024\n",
       "L1.Close         0.909254         0.056928           15.972           0.000\n",
       "L2.Open          0.295805         0.108293            2.732           0.006\n",
       "L2.High         -0.596947         0.091201           -6.545           0.000\n",
       "L2.Low          -0.207885         0.069828           -2.977           0.003\n",
       "L2.Close         0.623763         0.081026            7.698           0.000\n",
       "L3.Open          0.161943         0.101202            1.600           0.110\n",
       "L3.High         -0.434190         0.090868           -4.778           0.000\n",
       "L3.Low          -0.039587         0.069700           -0.568           0.570\n",
       "L3.Close         0.349453         0.085323            4.096           0.000\n",
       "L4.Open          0.039966         0.056686            0.705           0.481\n",
       "L4.High         -0.117780         0.071006           -1.659           0.097\n",
       "L4.Low          -0.056438         0.056234           -1.004           0.316\n",
       "L4.Close         0.140122         0.073875            1.897           0.058\n",
       "===========================================================================\n",
       "\n",
       "Results for equation Low\n",
       "===========================================================================\n",
       "              coefficient       std. error           t-stat            prob\n",
       "---------------------------------------------------------------------------\n",
       "const            8.863220         5.481524            1.617           0.106\n",
       "L1.Open          0.242167         0.119362            2.029           0.042\n",
       "L1.High         -0.363333         0.095318           -3.812           0.000\n",
       "L1.Low          -0.753603         0.077291           -9.750           0.000\n",
       "L1.Close         1.044718         0.074690           13.987           0.000\n",
       "L2.Open          0.515874         0.142081            3.631           0.000\n",
       "L2.High         -0.405025         0.119656           -3.385           0.001\n",
       "L2.Low          -0.748611         0.091615           -8.171           0.000\n",
       "L2.Close         0.850096         0.106307            7.997           0.000\n",
       "L3.Open          0.144141         0.132778            1.086           0.278\n",
       "L3.High         -0.316459         0.119219           -2.654           0.008\n",
       "L3.Low          -0.271912         0.091447           -2.973           0.003\n",
       "L3.Close         0.369874         0.111945            3.304           0.001\n",
       "L4.Open         -0.033340         0.074372           -0.448           0.654\n",
       "L4.High         -0.093316         0.093160           -1.002           0.317\n",
       "L4.Low          -0.076878         0.073779           -1.042           0.297\n",
       "L4.Close         0.191093         0.096925            1.972           0.049\n",
       "===========================================================================\n",
       "\n",
       "Results for equation Close\n",
       "===========================================================================\n",
       "              coefficient       std. error           t-stat            prob\n",
       "---------------------------------------------------------------------------\n",
       "const           13.937891         6.332490            2.201           0.028\n",
       "L1.Open          0.337781         0.137892            2.450           0.014\n",
       "L1.High         -0.262278         0.110116           -2.382           0.017\n",
       "L1.Low          -0.159071         0.089289           -1.782           0.075\n",
       "L1.Close         0.159329         0.086285            1.847           0.065\n",
       "L2.Open          0.590474         0.164138            3.597           0.000\n",
       "L2.High         -0.403734         0.138232           -2.921           0.003\n",
       "L2.Low          -0.226059         0.105837           -2.136           0.033\n",
       "L2.Close         0.122233         0.122810            0.995           0.320\n",
       "L3.Open          0.138830         0.153390            0.905           0.365\n",
       "L3.High         -0.286391         0.137727           -2.079           0.038\n",
       "L3.Low           0.034589         0.105643            0.327           0.743\n",
       "L3.Close        -0.082334         0.129323           -0.637           0.524\n",
       "L4.Open         -0.062723         0.085918           -0.730           0.465\n",
       "L4.High         -0.009243         0.107622           -0.086           0.932\n",
       "L4.Low           0.020512         0.085233            0.241           0.810\n",
       "L4.Close        -0.058034         0.111972           -0.518           0.604\n",
       "===========================================================================\n",
       "\n",
       "Correlation matrix of residuals\n",
       "             Open      High       Low     Close\n",
       "Open     1.000000  0.712407  0.662875  0.484253\n",
       "High     0.712407  1.000000  0.720305  0.797785\n",
       "Low      0.662875  0.720305  1.000000  0.847536\n",
       "Close    0.484253  0.797785  0.847536  1.000000\n",
       "\n"
      ]
     },
     "execution_count": 31,
     "metadata": {},
     "output_type": "execute_result"
    }
   ],
   "source": [
    "result.summary()"
   ]
  },
  {
   "cell_type": "markdown",
   "metadata": {},
   "source": [
    "##  select the right order of the VAR model for least AIC."
   ]
  },
  {
   "cell_type": "code",
   "execution_count": 33,
   "metadata": {},
   "outputs": [
    {
     "name": "stdout",
     "output_type": "stream",
     "text": [
      "Lag Order = 1\n",
      "AIC :  36.46917577217586\n",
      "Lag Order = 2\n",
      "AIC :  36.001125704182556\n",
      "Lag Order = 3\n",
      "AIC :  35.80106903587586\n",
      "Lag Order = 4\n",
      "AIC :  35.73446676709522\n",
      "Lag Order = 5\n",
      "AIC :  35.62837018312925\n",
      "Lag Order = 6\n",
      "AIC :  35.58853294968405\n",
      "Lag Order = 7\n",
      "AIC :  35.52817308433611\n",
      "Lag Order = 8\n",
      "AIC :  35.50768097733879\n",
      "Lag Order = 9\n",
      "AIC :  35.49574339934622\n",
      "Lag Order = 10\n",
      "AIC :  35.482245284449576\n",
      "Lag Order = 11\n",
      "AIC :  35.44730675926857\n",
      "Lag Order = 12\n",
      "AIC :  35.42100313884424\n",
      "Lag Order = 13\n",
      "AIC :  35.39373043656055\n",
      "Lag Order = 14\n",
      "AIC :  35.40113055133295\n",
      "Lag Order = 15\n",
      "AIC :  35.38851092257697\n",
      "Lag Order = 16\n",
      "AIC :  35.375365140258324\n",
      "Lag Order = 17\n",
      "AIC :  35.3585014537221\n",
      "Lag Order = 18\n",
      "AIC :  35.34790139437608\n",
      "Lag Order = 19\n",
      "AIC :  35.34312547035543\n",
      "Lag Order = 20\n",
      "AIC :  35.34300795235263\n",
      "Lag Order = 21\n",
      "AIC :  35.32375935975019\n",
      "Lag Order = 22\n",
      "AIC :  35.33501785078329\n",
      "Lag Order = 23\n",
      "AIC :  35.34224660954671\n",
      "Lag Order = 24\n",
      "AIC :  35.35224904594963\n",
      "Lag Order = 25\n",
      "AIC :  35.357306788820736\n",
      "Lag Order = 26\n",
      "AIC :  35.364265366130695\n",
      "Lag Order = 27\n",
      "AIC :  35.36186716573169\n",
      "Lag Order = 28\n",
      "AIC :  35.3648322930343\n",
      "Lag Order = 29\n",
      "AIC :  35.37435085384106\n"
     ]
    }
   ],
   "source": [
    "model = VAR(train1)\n",
    "for i in range(1,30):\n",
    "    result = model.fit(i)\n",
    "    print('Lag Order =', i)\n",
    "    print('AIC : ', result.aic)"
   ]
  },
  {
   "cell_type": "markdown",
   "metadata": {},
   "source": [
    "## Train the VAR model for selected order"
   ]
  },
  {
   "cell_type": "code",
   "execution_count": 34,
   "metadata": {
    "scrolled": false
   },
   "outputs": [
    {
     "data": {
      "text/plain": [
       "  Summary of Regression Results   \n",
       "==================================\n",
       "Model:                         VAR\n",
       "Method:                        OLS\n",
       "Date:           Sun, 03, Oct, 2021\n",
       "Time:                     12:41:50\n",
       "--------------------------------------------------------------------\n",
       "No. of Equations:         4.00000    BIC:                    36.1380\n",
       "Nobs:                     917.000    HQIC:                   35.7609\n",
       "Log likelihood:          -21378.3    FPE:                2.68984e+15\n",
       "AIC:                      35.5282    Det(Omega_mle):     2.37487e+15\n",
       "--------------------------------------------------------------------\n",
       "Results for equation Open\n",
       "===========================================================================\n",
       "              coefficient       std. error           t-stat            prob\n",
       "---------------------------------------------------------------------------\n",
       "const            2.559029         2.618197            0.977           0.328\n",
       "L1.Open         -0.789651         0.060408          -13.072           0.000\n",
       "L1.High         -0.075386         0.046911           -1.607           0.108\n",
       "L1.Low           0.047302         0.038477            1.229           0.219\n",
       "L1.Close         0.947803         0.037110           25.540           0.000\n",
       "L2.Open         -0.627983         0.078267           -8.024           0.000\n",
       "L2.High         -0.000866         0.061470           -0.014           0.989\n",
       "L2.Low          -0.012436         0.048099           -0.259           0.796\n",
       "L2.Close         0.785508         0.054408           14.437           0.000\n",
       "L3.Open         -0.537103         0.085911           -6.252           0.000\n",
       "L3.High         -0.018609         0.066332           -0.281           0.779\n",
       "L3.Low           0.055522         0.053277            1.042           0.297\n",
       "L3.Close         0.600366         0.062775            9.564           0.000\n",
       "L4.Open         -0.555852         0.086406           -6.433           0.000\n",
       "L4.High          0.046173         0.067779            0.681           0.496\n",
       "L4.Low           0.110373         0.053852            2.050           0.040\n",
       "L4.Close         0.414411         0.065785            6.300           0.000\n",
       "L5.Open         -0.286100         0.081964           -3.491           0.000\n",
       "L5.High         -0.000281         0.066642           -0.004           0.997\n",
       "L5.Low           0.111513         0.052264            2.134           0.033\n",
       "L5.Close         0.335970         0.065226            5.151           0.000\n",
       "L6.Open         -0.160089         0.068073           -2.352           0.019\n",
       "L6.High         -0.026432         0.061598           -0.429           0.668\n",
       "L6.Low           0.083976         0.046310            1.813           0.070\n",
       "L6.Close         0.190583         0.059976            3.178           0.001\n",
       "L7.Open         -0.015833         0.036148           -0.438           0.661\n",
       "L7.High         -0.042491         0.045658           -0.931           0.352\n",
       "L7.Low           0.067810         0.035869            1.890           0.059\n",
       "L7.Close         0.126871         0.048424            2.620           0.009\n",
       "===========================================================================\n",
       "\n",
       "Results for equation High\n",
       "===========================================================================\n",
       "              coefficient       std. error           t-stat            prob\n",
       "---------------------------------------------------------------------------\n",
       "const            9.519369         4.123620            2.308           0.021\n",
       "L1.Open          0.187108         0.095141            1.967           0.049\n",
       "L1.High         -0.968569         0.073884          -13.109           0.000\n",
       "L1.Low          -0.106551         0.060601           -1.758           0.079\n",
       "L1.Close         0.929141         0.058447           15.897           0.000\n",
       "L2.Open          0.236113         0.123270            1.915           0.055\n",
       "L2.High         -0.719689         0.096814           -7.434           0.000\n",
       "L2.Low          -0.155329         0.075755           -2.050           0.040\n",
       "L2.Close         0.697605         0.085691            8.141           0.000\n",
       "L3.Open          0.041869         0.135308            0.309           0.757\n",
       "L3.High         -0.567262         0.104472           -5.430           0.000\n",
       "L3.Low           0.039483         0.083910            0.471           0.638\n",
       "L3.Close         0.459798         0.098869            4.651           0.000\n",
       "L4.Open         -0.173720         0.136089           -1.277           0.202\n",
       "L4.High         -0.312268         0.106752           -2.925           0.003\n",
       "L4.Low           0.097882         0.084817            1.154           0.248\n",
       "L4.Close         0.286292         0.103610            2.763           0.006\n",
       "L5.Open         -0.038072         0.129092           -0.295           0.768\n",
       "L5.High         -0.319374         0.104959           -3.043           0.002\n",
       "L5.Low           0.196941         0.082315            2.393           0.017\n",
       "L5.Close         0.249017         0.102730            2.424           0.015\n",
       "L6.Open          0.000355         0.107213            0.003           0.997\n",
       "L6.High         -0.253008         0.097016           -2.608           0.009\n",
       "L6.Low           0.072747         0.072938            0.997           0.319\n",
       "L6.Close         0.210165         0.094461            2.225           0.026\n",
       "L7.Open          0.062460         0.056932            1.097           0.273\n",
       "L7.High         -0.256869         0.071910           -3.572           0.000\n",
       "L7.Low           0.097079         0.056493            1.718           0.086\n",
       "L7.Close         0.175314         0.076268            2.299           0.022\n",
       "===========================================================================\n",
       "\n",
       "Results for equation Low\n",
       "===========================================================================\n",
       "              coefficient       std. error           t-stat            prob\n",
       "---------------------------------------------------------------------------\n",
       "const            9.102877         5.527349            1.647           0.100\n",
       "L1.Open          0.240543         0.127528            1.886           0.059\n",
       "L1.High         -0.401410         0.099035           -4.053           0.000\n",
       "L1.Low          -0.784089         0.081230           -9.653           0.000\n",
       "L1.Close         1.094895         0.078344           13.976           0.000\n",
       "L2.Open          0.476691         0.165232            2.885           0.004\n",
       "L2.High         -0.472842         0.129771           -3.644           0.000\n",
       "L2.Low          -0.762508         0.101543           -7.509           0.000\n",
       "L2.Close         0.929782         0.114862            8.095           0.000\n",
       "L3.Open          0.080508         0.181369            0.444           0.657\n",
       "L3.High         -0.383012         0.140036           -2.735           0.006\n",
       "L3.Low          -0.322096         0.112474           -2.864           0.004\n",
       "L3.Close         0.517426         0.132525            3.904           0.000\n",
       "L4.Open         -0.138423         0.182415           -0.759           0.448\n",
       "L4.High         -0.217588         0.143091           -1.521           0.128\n",
       "L4.Low          -0.102569         0.113689           -0.902           0.367\n",
       "L4.Close         0.386416         0.138880            2.782           0.005\n",
       "L5.Open          0.057217         0.173036            0.331           0.741\n",
       "L5.High         -0.212702         0.140689           -1.512           0.131\n",
       "L5.Low          -0.040113         0.110337           -0.364           0.716\n",
       "L5.Close         0.293947         0.137700            2.135           0.033\n",
       "L6.Open         -0.022584         0.143710           -0.157           0.875\n",
       "L6.High         -0.121675         0.130041           -0.936           0.349\n",
       "L6.Low          -0.071162         0.097767           -0.728           0.467\n",
       "L6.Close         0.128252         0.126616            1.013           0.311\n",
       "L7.Open          0.010852         0.076312            0.142           0.887\n",
       "L7.High         -0.133675         0.096389           -1.387           0.165\n",
       "L7.Low           0.010537         0.075725            0.139           0.889\n",
       "L7.Close         0.198010         0.102230            1.937           0.053\n",
       "===========================================================================\n",
       "\n",
       "Results for equation Close\n",
       "===========================================================================\n",
       "              coefficient       std. error           t-stat            prob\n",
       "---------------------------------------------------------------------------\n",
       "const           14.186923         6.374802            2.225           0.026\n",
       "L1.Open          0.342052         0.147081            2.326           0.020\n",
       "L1.High         -0.275835         0.114219           -2.415           0.016\n",
       "L1.Low          -0.117343         0.093685           -1.253           0.210\n",
       "L1.Close         0.137907         0.090355            1.526           0.127\n",
       "L2.Open          0.578111         0.190565            3.034           0.002\n",
       "L2.High         -0.419646         0.149667           -2.804           0.005\n",
       "L2.Low          -0.122522         0.117111           -1.046           0.295\n",
       "L2.Close         0.041292         0.132472            0.312           0.755\n",
       "L3.Open          0.094960         0.209176            0.454           0.650\n",
       "L3.High         -0.271848         0.161506           -1.683           0.092\n",
       "L3.Low           0.181654         0.129718            1.400           0.161\n",
       "L3.Close        -0.210861         0.152844           -1.380           0.168\n",
       "L4.Open         -0.191953         0.210383           -0.912           0.362\n",
       "L4.High          0.016914         0.165030            0.102           0.918\n",
       "L4.Low           0.272002         0.131120            2.074           0.038\n",
       "L4.Close        -0.253374         0.160173           -1.582           0.114\n",
       "L5.Open         -0.027316         0.199566           -0.137           0.891\n",
       "L5.High         -0.012384         0.162259           -0.076           0.939\n",
       "L5.Low           0.308478         0.127253            2.424           0.015\n",
       "L5.Close        -0.199656         0.158812           -1.257           0.209\n",
       "L6.Open         -0.087378         0.165744           -0.527           0.598\n",
       "L6.High          0.011991         0.149979            0.080           0.936\n",
       "L6.Low           0.116862         0.112757            1.036           0.300\n",
       "L6.Close        -0.161410         0.146029           -1.105           0.269\n",
       "L7.Open         -0.031423         0.088013           -0.357           0.721\n",
       "L7.High         -0.076691         0.111168           -0.690           0.490\n",
       "L7.Low           0.065282         0.087335            0.747           0.455\n",
       "L7.Close         0.094214         0.117904            0.799           0.424\n",
       "===========================================================================\n",
       "\n",
       "Correlation matrix of residuals\n",
       "             Open      High       Low     Close\n",
       "Open     1.000000  0.714702  0.676389  0.498088\n",
       "High     0.714702  1.000000  0.728823  0.807790\n",
       "Low      0.676389  0.728823  1.000000  0.854143\n",
       "Close    0.498088  0.807790  0.854143  1.000000\n",
       "\n"
      ]
     },
     "execution_count": 34,
     "metadata": {},
     "output_type": "execute_result"
    }
   ],
   "source": [
    "model_fitted = model.fit(7)\n",
    "model_fitted.summary()"
   ]
  },
  {
   "cell_type": "markdown",
   "metadata": {},
   "source": [
    "## forecast using fitted model"
   ]
  },
  {
   "cell_type": "code",
   "execution_count": 35,
   "metadata": {},
   "outputs": [
    {
     "data": {
      "text/plain": [
       "array([[  75.980469,   39.960937,   53.789063,   38.048828],\n",
       "       [ -60.400391,    8.59961 ,  -45.128907,   73.919922],\n",
       "       [ 122.220703,  227.609375,  168.429688,  227.609375],\n",
       "       [ 269.269532,  169.691406,  219.529297,   45.410156],\n",
       "       [  19.349609,  -29.179688,   88.939453,   37.070312],\n",
       "       [ -70.609375, -104.68164 , -161.388672, -142.699218],\n",
       "       [-135.941406,  -62.06836 ,  -48.419922,   33.980468]])"
      ]
     },
     "execution_count": 35,
     "metadata": {},
     "output_type": "execute_result"
    }
   ],
   "source": [
    "forecast_input = train1.values[-7:]\n",
    "forecast_input"
   ]
  },
  {
   "cell_type": "code",
   "execution_count": 36,
   "metadata": {},
   "outputs": [
    {
     "data": {
      "text/plain": [
       "81"
      ]
     },
     "execution_count": 36,
     "metadata": {},
     "output_type": "execute_result"
    }
   ],
   "source": [
    "len(test)"
   ]
  },
  {
   "cell_type": "code",
   "execution_count": 37,
   "metadata": {},
   "outputs": [],
   "source": [
    "forecast=model_fitted.forecast(y=forecast_input,steps=len(test))\n",
    "\n",
    "forecast=pd.DataFrame(forecast,index=test.index, columns=df.columns)"
   ]
  },
  {
   "cell_type": "code",
   "execution_count": 38,
   "metadata": {},
   "outputs": [
    {
     "data": {
      "text/html": [
       "<div>\n",
       "<style scoped>\n",
       "    .dataframe tbody tr th:only-of-type {\n",
       "        vertical-align: middle;\n",
       "    }\n",
       "\n",
       "    .dataframe tbody tr th {\n",
       "        vertical-align: top;\n",
       "    }\n",
       "\n",
       "    .dataframe thead th {\n",
       "        text-align: right;\n",
       "    }\n",
       "</style>\n",
       "<table border=\"1\" class=\"dataframe\">\n",
       "  <thead>\n",
       "    <tr style=\"text-align: right;\">\n",
       "      <th></th>\n",
       "      <th>Open</th>\n",
       "      <th>High</th>\n",
       "      <th>Low</th>\n",
       "      <th>Close</th>\n",
       "    </tr>\n",
       "    <tr>\n",
       "      <th>Time_Stamp</th>\n",
       "      <th></th>\n",
       "      <th></th>\n",
       "      <th></th>\n",
       "      <th></th>\n",
       "    </tr>\n",
       "  </thead>\n",
       "  <tbody>\n",
       "    <tr>\n",
       "      <th>2019-08-01</th>\n",
       "      <td>82.937148</td>\n",
       "      <td>66.692851</td>\n",
       "      <td>42.133041</td>\n",
       "      <td>19.841563</td>\n",
       "    </tr>\n",
       "    <tr>\n",
       "      <th>2019-08-02</th>\n",
       "      <td>25.371890</td>\n",
       "      <td>22.932000</td>\n",
       "      <td>28.422703</td>\n",
       "      <td>39.309339</td>\n",
       "    </tr>\n",
       "    <tr>\n",
       "      <th>2019-08-05</th>\n",
       "      <td>56.699508</td>\n",
       "      <td>59.394195</td>\n",
       "      <td>56.906996</td>\n",
       "      <td>54.129270</td>\n",
       "    </tr>\n",
       "    <tr>\n",
       "      <th>2019-08-06</th>\n",
       "      <td>47.447742</td>\n",
       "      <td>36.694421</td>\n",
       "      <td>33.757858</td>\n",
       "      <td>-0.914738</td>\n",
       "    </tr>\n",
       "    <tr>\n",
       "      <th>2019-08-07</th>\n",
       "      <td>-19.898659</td>\n",
       "      <td>-7.715384</td>\n",
       "      <td>3.252097</td>\n",
       "      <td>6.791802</td>\n",
       "    </tr>\n",
       "    <tr>\n",
       "      <th>...</th>\n",
       "      <td>...</td>\n",
       "      <td>...</td>\n",
       "      <td>...</td>\n",
       "      <td>...</td>\n",
       "    </tr>\n",
       "    <tr>\n",
       "      <th>2019-11-15</th>\n",
       "      <td>11.918789</td>\n",
       "      <td>11.850140</td>\n",
       "      <td>11.997626</td>\n",
       "      <td>11.941487</td>\n",
       "    </tr>\n",
       "    <tr>\n",
       "      <th>2019-11-18</th>\n",
       "      <td>11.918786</td>\n",
       "      <td>11.850132</td>\n",
       "      <td>11.997620</td>\n",
       "      <td>11.941482</td>\n",
       "    </tr>\n",
       "    <tr>\n",
       "      <th>2019-11-19</th>\n",
       "      <td>11.918781</td>\n",
       "      <td>11.850131</td>\n",
       "      <td>11.997616</td>\n",
       "      <td>11.941479</td>\n",
       "    </tr>\n",
       "    <tr>\n",
       "      <th>2019-11-20</th>\n",
       "      <td>11.918779</td>\n",
       "      <td>11.850127</td>\n",
       "      <td>11.997613</td>\n",
       "      <td>11.941477</td>\n",
       "    </tr>\n",
       "    <tr>\n",
       "      <th>2019-11-21</th>\n",
       "      <td>11.918780</td>\n",
       "      <td>11.850130</td>\n",
       "      <td>11.997615</td>\n",
       "      <td>11.941480</td>\n",
       "    </tr>\n",
       "  </tbody>\n",
       "</table>\n",
       "<p>81 rows × 4 columns</p>\n",
       "</div>"
      ],
      "text/plain": [
       "                 Open       High        Low      Close\n",
       "Time_Stamp                                            \n",
       "2019-08-01  82.937148  66.692851  42.133041  19.841563\n",
       "2019-08-02  25.371890  22.932000  28.422703  39.309339\n",
       "2019-08-05  56.699508  59.394195  56.906996  54.129270\n",
       "2019-08-06  47.447742  36.694421  33.757858  -0.914738\n",
       "2019-08-07 -19.898659  -7.715384   3.252097   6.791802\n",
       "...               ...        ...        ...        ...\n",
       "2019-11-15  11.918789  11.850140  11.997626  11.941487\n",
       "2019-11-18  11.918786  11.850132  11.997620  11.941482\n",
       "2019-11-19  11.918781  11.850131  11.997616  11.941479\n",
       "2019-11-20  11.918779  11.850127  11.997613  11.941477\n",
       "2019-11-21  11.918780  11.850130  11.997615  11.941480\n",
       "\n",
       "[81 rows x 4 columns]"
      ]
     },
     "execution_count": 38,
     "metadata": {},
     "output_type": "execute_result"
    }
   ],
   "source": [
    "forecast"
   ]
  },
  {
   "cell_type": "code",
   "execution_count": 39,
   "metadata": {},
   "outputs": [
    {
     "data": {
      "text/html": [
       "<div>\n",
       "<style scoped>\n",
       "    .dataframe tbody tr th:only-of-type {\n",
       "        vertical-align: middle;\n",
       "    }\n",
       "\n",
       "    .dataframe tbody tr th {\n",
       "        vertical-align: top;\n",
       "    }\n",
       "\n",
       "    .dataframe thead th {\n",
       "        text-align: right;\n",
       "    }\n",
       "</style>\n",
       "<table border=\"1\" class=\"dataframe\">\n",
       "  <thead>\n",
       "    <tr style=\"text-align: right;\">\n",
       "      <th></th>\n",
       "      <th>Open</th>\n",
       "      <th>High</th>\n",
       "      <th>Low</th>\n",
       "      <th>Close</th>\n",
       "    </tr>\n",
       "    <tr>\n",
       "      <th>Time_Stamp</th>\n",
       "      <th></th>\n",
       "      <th></th>\n",
       "      <th></th>\n",
       "      <th></th>\n",
       "    </tr>\n",
       "  </thead>\n",
       "  <tbody>\n",
       "    <tr>\n",
       "      <th>2019-08-01</th>\n",
       "      <td>27075.390625</td>\n",
       "      <td>27161.929688</td>\n",
       "      <td>26899.150391</td>\n",
       "      <td>27147.080078</td>\n",
       "    </tr>\n",
       "    <tr>\n",
       "      <th>2019-08-02</th>\n",
       "      <td>27186.050781</td>\n",
       "      <td>27272.169922</td>\n",
       "      <td>27064.210938</td>\n",
       "      <td>27094.789063</td>\n",
       "    </tr>\n",
       "    <tr>\n",
       "      <th>2019-08-05</th>\n",
       "      <td>27102.179688</td>\n",
       "      <td>27194.750000</td>\n",
       "      <td>26926.679688</td>\n",
       "      <td>26935.070313</td>\n",
       "    </tr>\n",
       "    <tr>\n",
       "      <th>2019-08-06</th>\n",
       "      <td>26851.449219</td>\n",
       "      <td>27011.070313</td>\n",
       "      <td>26831.339844</td>\n",
       "      <td>26949.990234</td>\n",
       "    </tr>\n",
       "    <tr>\n",
       "      <th>2019-08-07</th>\n",
       "      <td>27034.070313</td>\n",
       "      <td>27079.679688</td>\n",
       "      <td>26704.960938</td>\n",
       "      <td>26807.769531</td>\n",
       "    </tr>\n",
       "    <tr>\n",
       "      <th>...</th>\n",
       "      <td>...</td>\n",
       "      <td>...</td>\n",
       "      <td>...</td>\n",
       "      <td>...</td>\n",
       "    </tr>\n",
       "    <tr>\n",
       "      <th>2019-11-15</th>\n",
       "      <td>28639.179688</td>\n",
       "      <td>28685.500000</td>\n",
       "      <td>28565.279297</td>\n",
       "      <td>28583.679688</td>\n",
       "    </tr>\n",
       "    <tr>\n",
       "      <th>2019-11-18</th>\n",
       "      <td>28556.140625</td>\n",
       "      <td>28866.179688</td>\n",
       "      <td>28522.509766</td>\n",
       "      <td>28745.089844</td>\n",
       "    </tr>\n",
       "    <tr>\n",
       "      <th>2019-11-19</th>\n",
       "      <td>28851.970703</td>\n",
       "      <td>28988.009766</td>\n",
       "      <td>28844.310547</td>\n",
       "      <td>28956.900391</td>\n",
       "    </tr>\n",
       "    <tr>\n",
       "      <th>2019-11-20</th>\n",
       "      <td>28977.519531</td>\n",
       "      <td>29009.070313</td>\n",
       "      <td>28789.099609</td>\n",
       "      <td>28823.769531</td>\n",
       "    </tr>\n",
       "    <tr>\n",
       "      <th>2019-11-21</th>\n",
       "      <td>28869.009766</td>\n",
       "      <td>28909.910156</td>\n",
       "      <td>28819.429688</td>\n",
       "      <td>28907.050781</td>\n",
       "    </tr>\n",
       "  </tbody>\n",
       "</table>\n",
       "<p>81 rows × 4 columns</p>\n",
       "</div>"
      ],
      "text/plain": [
       "                    Open          High           Low         Close\n",
       "Time_Stamp                                                        \n",
       "2019-08-01  27075.390625  27161.929688  26899.150391  27147.080078\n",
       "2019-08-02  27186.050781  27272.169922  27064.210938  27094.789063\n",
       "2019-08-05  27102.179688  27194.750000  26926.679688  26935.070313\n",
       "2019-08-06  26851.449219  27011.070313  26831.339844  26949.990234\n",
       "2019-08-07  27034.070313  27079.679688  26704.960938  26807.769531\n",
       "...                  ...           ...           ...           ...\n",
       "2019-11-15  28639.179688  28685.500000  28565.279297  28583.679688\n",
       "2019-11-18  28556.140625  28866.179688  28522.509766  28745.089844\n",
       "2019-11-19  28851.970703  28988.009766  28844.310547  28956.900391\n",
       "2019-11-20  28977.519531  29009.070313  28789.099609  28823.769531\n",
       "2019-11-21  28869.009766  28909.910156  28819.429688  28907.050781\n",
       "\n",
       "[81 rows x 4 columns]"
      ]
     },
     "execution_count": 39,
     "metadata": {},
     "output_type": "execute_result"
    }
   ],
   "source": [
    "test"
   ]
  },
  {
   "cell_type": "code",
   "execution_count": null,
   "metadata": {},
   "outputs": [],
   "source": [
    "forecast.head()"
   ]
  },
  {
   "cell_type": "markdown",
   "metadata": {},
   "source": [
    "## If differencing is done, Invert the transformation to get the real forecast"
   ]
  },
  {
   "cell_type": "code",
   "execution_count": 22,
   "metadata": {},
   "outputs": [],
   "source": [
    "def invert_transformation(train, forecast):\n",
    "    df_fc = forecast.copy()\n",
    "    columns = train.columns\n",
    "    for col in columns:        \n",
    "        df_fc[str(col)+'_forecast'] = train[col].iloc[-1] + df_fc[str(col)].cumsum()\n",
    "    return df_fc"
   ]
  },
  {
   "cell_type": "code",
   "execution_count": null,
   "metadata": {},
   "outputs": [],
   "source": [
    "    for col in columns:        \n",
    "        df_fc[str(col)+'_1d'] = (train[col].iloc[-1]-train[col].iloc[-2]) + df_fc[str(col)].cumsum()\n",
    "        df_fc[str(col)+'_forecast'] = train[col].iloc[-1] + df_fc[str(col)+'_1d'].cumsum()\n",
    "    return df_fc"
   ]
  },
  {
   "cell_type": "code",
   "execution_count": 41,
   "metadata": {},
   "outputs": [],
   "source": [
    "df_results = invert_transformation(train,forecast)"
   ]
  },
  {
   "cell_type": "code",
   "execution_count": 42,
   "metadata": {},
   "outputs": [
    {
     "data": {
      "text/html": [
       "<div>\n",
       "<style scoped>\n",
       "    .dataframe tbody tr th:only-of-type {\n",
       "        vertical-align: middle;\n",
       "    }\n",
       "\n",
       "    .dataframe tbody tr th {\n",
       "        vertical-align: top;\n",
       "    }\n",
       "\n",
       "    .dataframe thead th {\n",
       "        text-align: right;\n",
       "    }\n",
       "</style>\n",
       "<table border=\"1\" class=\"dataframe\">\n",
       "  <thead>\n",
       "    <tr style=\"text-align: right;\">\n",
       "      <th></th>\n",
       "      <th>Open</th>\n",
       "      <th>High</th>\n",
       "      <th>Low</th>\n",
       "      <th>Close</th>\n",
       "      <th>Open_forecast</th>\n",
       "      <th>High_forecast</th>\n",
       "      <th>Low_forecast</th>\n",
       "      <th>Close_forecast</th>\n",
       "    </tr>\n",
       "    <tr>\n",
       "      <th>Time_Stamp</th>\n",
       "      <th></th>\n",
       "      <th></th>\n",
       "      <th></th>\n",
       "      <th></th>\n",
       "      <th></th>\n",
       "      <th></th>\n",
       "      <th></th>\n",
       "      <th></th>\n",
       "    </tr>\n",
       "  </thead>\n",
       "  <tbody>\n",
       "    <tr>\n",
       "      <th>2019-08-01</th>\n",
       "      <td>82.937148</td>\n",
       "      <td>66.692851</td>\n",
       "      <td>42.133041</td>\n",
       "      <td>19.841563</td>\n",
       "      <td>27093.056289</td>\n",
       "      <td>27177.493632</td>\n",
       "      <td>27026.273666</td>\n",
       "      <td>27130.642344</td>\n",
       "    </tr>\n",
       "    <tr>\n",
       "      <th>2019-08-02</th>\n",
       "      <td>25.371890</td>\n",
       "      <td>22.932000</td>\n",
       "      <td>28.422703</td>\n",
       "      <td>39.309339</td>\n",
       "      <td>27118.428179</td>\n",
       "      <td>27200.425632</td>\n",
       "      <td>27054.696369</td>\n",
       "      <td>27169.951683</td>\n",
       "    </tr>\n",
       "    <tr>\n",
       "      <th>2019-08-05</th>\n",
       "      <td>56.699508</td>\n",
       "      <td>59.394195</td>\n",
       "      <td>56.906996</td>\n",
       "      <td>54.129270</td>\n",
       "      <td>27175.127687</td>\n",
       "      <td>27259.819827</td>\n",
       "      <td>27111.603364</td>\n",
       "      <td>27224.080953</td>\n",
       "    </tr>\n",
       "    <tr>\n",
       "      <th>2019-08-06</th>\n",
       "      <td>47.447742</td>\n",
       "      <td>36.694421</td>\n",
       "      <td>33.757858</td>\n",
       "      <td>-0.914738</td>\n",
       "      <td>27222.575429</td>\n",
       "      <td>27296.514249</td>\n",
       "      <td>27145.361223</td>\n",
       "      <td>27223.166215</td>\n",
       "    </tr>\n",
       "    <tr>\n",
       "      <th>2019-08-07</th>\n",
       "      <td>-19.898659</td>\n",
       "      <td>-7.715384</td>\n",
       "      <td>3.252097</td>\n",
       "      <td>6.791802</td>\n",
       "      <td>27202.676770</td>\n",
       "      <td>27288.798865</td>\n",
       "      <td>27148.613320</td>\n",
       "      <td>27229.958017</td>\n",
       "    </tr>\n",
       "  </tbody>\n",
       "</table>\n",
       "</div>"
      ],
      "text/plain": [
       "                 Open       High        Low      Close  Open_forecast  \\\n",
       "Time_Stamp                                                              \n",
       "2019-08-01  82.937148  66.692851  42.133041  19.841563   27093.056289   \n",
       "2019-08-02  25.371890  22.932000  28.422703  39.309339   27118.428179   \n",
       "2019-08-05  56.699508  59.394195  56.906996  54.129270   27175.127687   \n",
       "2019-08-06  47.447742  36.694421  33.757858  -0.914738   27222.575429   \n",
       "2019-08-07 -19.898659  -7.715384   3.252097   6.791802   27202.676770   \n",
       "\n",
       "            High_forecast  Low_forecast  Close_forecast  \n",
       "Time_Stamp                                               \n",
       "2019-08-01   27177.493632  27026.273666    27130.642344  \n",
       "2019-08-02   27200.425632  27054.696369    27169.951683  \n",
       "2019-08-05   27259.819827  27111.603364    27224.080953  \n",
       "2019-08-06   27296.514249  27145.361223    27223.166215  \n",
       "2019-08-07   27288.798865  27148.613320    27229.958017  "
      ]
     },
     "execution_count": 42,
     "metadata": {},
     "output_type": "execute_result"
    }
   ],
   "source": [
    "df_results.head()"
   ]
  },
  {
   "cell_type": "code",
   "execution_count": 43,
   "metadata": {},
   "outputs": [
    {
     "data": {
      "text/html": [
       "<div>\n",
       "<style scoped>\n",
       "    .dataframe tbody tr th:only-of-type {\n",
       "        vertical-align: middle;\n",
       "    }\n",
       "\n",
       "    .dataframe tbody tr th {\n",
       "        vertical-align: top;\n",
       "    }\n",
       "\n",
       "    .dataframe thead th {\n",
       "        text-align: right;\n",
       "    }\n",
       "</style>\n",
       "<table border=\"1\" class=\"dataframe\">\n",
       "  <thead>\n",
       "    <tr style=\"text-align: right;\">\n",
       "      <th></th>\n",
       "      <th>Open</th>\n",
       "      <th>High</th>\n",
       "      <th>Low</th>\n",
       "      <th>Close</th>\n",
       "    </tr>\n",
       "    <tr>\n",
       "      <th>Time_Stamp</th>\n",
       "      <th></th>\n",
       "      <th></th>\n",
       "      <th></th>\n",
       "      <th></th>\n",
       "    </tr>\n",
       "  </thead>\n",
       "  <tbody>\n",
       "    <tr>\n",
       "      <th>2019-08-01</th>\n",
       "      <td>27075.390625</td>\n",
       "      <td>27161.929688</td>\n",
       "      <td>26899.150391</td>\n",
       "      <td>27147.080078</td>\n",
       "    </tr>\n",
       "    <tr>\n",
       "      <th>2019-08-02</th>\n",
       "      <td>27186.050781</td>\n",
       "      <td>27272.169922</td>\n",
       "      <td>27064.210938</td>\n",
       "      <td>27094.789063</td>\n",
       "    </tr>\n",
       "    <tr>\n",
       "      <th>2019-08-05</th>\n",
       "      <td>27102.179688</td>\n",
       "      <td>27194.750000</td>\n",
       "      <td>26926.679688</td>\n",
       "      <td>26935.070313</td>\n",
       "    </tr>\n",
       "    <tr>\n",
       "      <th>2019-08-06</th>\n",
       "      <td>26851.449219</td>\n",
       "      <td>27011.070313</td>\n",
       "      <td>26831.339844</td>\n",
       "      <td>26949.990234</td>\n",
       "    </tr>\n",
       "    <tr>\n",
       "      <th>2019-08-07</th>\n",
       "      <td>27034.070313</td>\n",
       "      <td>27079.679688</td>\n",
       "      <td>26704.960938</td>\n",
       "      <td>26807.769531</td>\n",
       "    </tr>\n",
       "  </tbody>\n",
       "</table>\n",
       "</div>"
      ],
      "text/plain": [
       "                    Open          High           Low         Close\n",
       "Time_Stamp                                                        \n",
       "2019-08-01  27075.390625  27161.929688  26899.150391  27147.080078\n",
       "2019-08-02  27186.050781  27272.169922  27064.210938  27094.789063\n",
       "2019-08-05  27102.179688  27194.750000  26926.679688  26935.070313\n",
       "2019-08-06  26851.449219  27011.070313  26831.339844  26949.990234\n",
       "2019-08-07  27034.070313  27079.679688  26704.960938  26807.769531"
      ]
     },
     "execution_count": 43,
     "metadata": {},
     "output_type": "execute_result"
    }
   ],
   "source": [
    "test.head()"
   ]
  },
  {
   "cell_type": "markdown",
   "metadata": {},
   "source": [
    "## plot the results"
   ]
  },
  {
   "cell_type": "code",
   "execution_count": 44,
   "metadata": {},
   "outputs": [
    {
     "data": {
      "image/png": "[encoded data removed]",
      "text/plain": [
       "<Figure size 1080x576 with 1 Axes>"
      ]
     },
     "metadata": {
      "needs_background": "light"
     },
     "output_type": "display_data"
    }
   ],
   "source": [
    "plt.plot(train['Open'],label='Training Data')\n",
    "plt.plot(test['Open'],label='Test Data')\n",
    "plt.plot(test.index,df_results['Open_forecast'],label='open forecast')\n",
    "plt.legend(loc='best')\n",
    "plt.grid();"
   ]
  },
  {
   "cell_type": "code",
   "execution_count": 45,
   "metadata": {},
   "outputs": [
    {
     "data": {
      "image/png": "[encoded data removed]",
      "text/plain": [
       "<Figure size 1080x576 with 1 Axes>"
      ]
     },
     "metadata": {
      "needs_background": "light"
     },
     "output_type": "display_data"
    }
   ],
   "source": [
    "plt.plot(train['High'],label='Training Data')\n",
    "plt.plot(test['High'],label='Test Data')\n",
    "plt.plot(test.index,df_results['High_forecast'],label='High forecast')\n",
    "plt.legend(loc='best')\n",
    "plt.grid();"
   ]
  },
  {
   "cell_type": "code",
   "execution_count": 46,
   "metadata": {},
   "outputs": [
    {
     "data": {
      "image/png": "[encoded data removed]",
      "text/plain": [
       "<Figure size 1080x576 with 1 Axes>"
      ]
     },
     "metadata": {
      "needs_background": "light"
     },
     "output_type": "display_data"
    }
   ],
   "source": [
    "plt.plot(train['Low'],label='Training Data')\n",
    "plt.plot(test['Low'],label='Test Data')\n",
    "plt.plot(test.index,df_results['Low_forecast'],label='low forecast')\n",
    "plt.legend(loc='best')\n",
    "plt.grid();"
   ]
  },
  {
   "cell_type": "code",
   "execution_count": 47,
   "metadata": {},
   "outputs": [
    {
     "data": {
      "image/png": "[encoded data removed]",
      "text/plain": [
       "<Figure size 1080x576 with 1 Axes>"
      ]
     },
     "metadata": {
      "needs_background": "light"
     },
     "output_type": "display_data"
    }
   ],
   "source": [
    "plt.plot(train['Close'],label='Training Data')\n",
    "plt.plot(test['Close'],label='Test Data')\n",
    "plt.plot(test.index,df_results['Close_forecast'],label='close forecast')\n",
    "plt.legend(loc='best')\n",
    "plt.grid();"
   ]
  },
  {
   "cell_type": "markdown",
   "metadata": {},
   "source": [
    "## Model Performace"
   ]
  },
  {
   "cell_type": "code",
   "execution_count": 27,
   "metadata": {},
   "outputs": [],
   "source": [
    "def MAPE(y_true, y_pred):\n",
    "    return np.mean((np.abs(y_true-y_pred))/(y_true))*100"
   ]
  },
  {
   "cell_type": "code",
   "execution_count": 49,
   "metadata": {},
   "outputs": [
    {
     "name": "stdout",
     "output_type": "stream",
     "text": [
      "1.515971581212565\n"
     ]
    }
   ],
   "source": [
    "mape=MAPE(test['Close'].values,df_results['Close_forecast'].values)\n",
    "print(mape)"
   ]
  },
  {
   "cell_type": "code",
   "execution_count": 50,
   "metadata": {},
   "outputs": [
    {
     "name": "stdout",
     "output_type": "stream",
     "text": [
      "490.3700148587564\n"
     ]
    }
   ],
   "source": [
    "from sklearn.metrics import  mean_squared_error\n",
    "rmse = mean_squared_error(test['Open'],df_results['Open_forecast'], squared=False)\n",
    "print(rmse)"
   ]
  },
  {
   "cell_type": "markdown",
   "metadata": {},
   "source": [
    "## Building VARMA model"
   ]
  },
  {
   "cell_type": "code",
   "execution_count": 51,
   "metadata": {},
   "outputs": [
    {
     "name": "stdout",
     "output_type": "stream",
     "text": [
      "parameter combinations for the Model\n",
      "Model: (0, 1)\n",
      "Model: (0, 2)\n",
      "Model: (0, 3)\n",
      "Model: (0, 4)\n",
      "Model: (0, 5)\n",
      "Model: (0, 6)\n",
      "Model: (1, 0)\n",
      "Model: (1, 1)\n",
      "Model: (1, 2)\n",
      "Model: (1, 3)\n",
      "Model: (1, 4)\n",
      "Model: (1, 5)\n",
      "Model: (1, 6)\n",
      "Model: (2, 0)\n",
      "Model: (2, 1)\n",
      "Model: (2, 2)\n",
      "Model: (2, 3)\n",
      "Model: (2, 4)\n",
      "Model: (2, 5)\n",
      "Model: (2, 6)\n",
      "Model: (3, 0)\n",
      "Model: (3, 1)\n",
      "Model: (3, 2)\n",
      "Model: (3, 3)\n",
      "Model: (3, 4)\n",
      "Model: (3, 5)\n",
      "Model: (3, 6)\n",
      "Model: (4, 0)\n",
      "Model: (4, 1)\n",
      "Model: (4, 2)\n",
      "Model: (4, 3)\n",
      "Model: (4, 4)\n",
      "Model: (4, 5)\n",
      "Model: (4, 6)\n",
      "Model: (5, 0)\n",
      "Model: (5, 1)\n",
      "Model: (5, 2)\n",
      "Model: (5, 3)\n",
      "Model: (5, 4)\n",
      "Model: (5, 5)\n",
      "Model: (5, 6)\n",
      "Model: (6, 0)\n",
      "Model: (6, 1)\n",
      "Model: (6, 2)\n",
      "Model: (6, 3)\n",
      "Model: (6, 4)\n",
      "Model: (6, 5)\n",
      "Model: (6, 6)\n"
     ]
    }
   ],
   "source": [
    "import itertools\n",
    "p = q = range(0, 7)\n",
    "pq = list(itertools.product(p,q))\n",
    "print('parameter combinations for the Model')\n",
    "for i in range(1,len(pq)):\n",
    "    print('Model: {}'.format(pq[i]))"
   ]
  },
  {
   "cell_type": "code",
   "execution_count": 52,
   "metadata": {},
   "outputs": [
    {
     "data": {
      "text/html": [
       "<div>\n",
       "<style scoped>\n",
       "    .dataframe tbody tr th:only-of-type {\n",
       "        vertical-align: middle;\n",
       "    }\n",
       "\n",
       "    .dataframe tbody tr th {\n",
       "        vertical-align: top;\n",
       "    }\n",
       "\n",
       "    .dataframe thead th {\n",
       "        text-align: right;\n",
       "    }\n",
       "</style>\n",
       "<table border=\"1\" class=\"dataframe\">\n",
       "  <thead>\n",
       "    <tr style=\"text-align: right;\">\n",
       "      <th></th>\n",
       "      <th>param</th>\n",
       "      <th>AIC</th>\n",
       "    </tr>\n",
       "  </thead>\n",
       "  <tbody>\n",
       "  </tbody>\n",
       "</table>\n",
       "</div>"
      ],
      "text/plain": [
       "Empty DataFrame\n",
       "Columns: [param, AIC]\n",
       "Index: []"
      ]
     },
     "execution_count": 52,
     "metadata": {},
     "output_type": "execute_result"
    }
   ],
   "source": [
    "dfObj1 = pd.DataFrame(columns=['param', 'AIC'])\n",
    "dfObj1"
   ]
  },
  {
   "cell_type": "code",
   "execution_count": null,
   "metadata": {},
   "outputs": [
    {
     "name": "stdout",
     "output_type": "stream",
     "text": [
      "VARMAX(0, 1) - AIC:43601.71486043258\n"
     ]
    }
   ],
   "source": [
    "for param in pq:\n",
    "            try:\n",
    "                mod = VARMAX(train1,order=param,trend='t')\n",
    "                results_VARMAX = mod.fit()\n",
    "                print('VARMAX{} - AIC:{}'.format(param, results_VARMAX.aic))\n",
    "                dfObj1 = dfObj1.append({'param':param, 'AIC': results_VARMAX.aic}, ignore_index=True)\n",
    "\n",
    "            except:\n",
    "                continue"
   ]
  },
  {
   "cell_type": "code",
   "execution_count": null,
   "metadata": {},
   "outputs": [],
   "source": [
    "dfObj1.sort_values(by=['AIC'])"
   ]
  },
  {
   "cell_type": "code",
   "execution_count": 15,
   "metadata": {},
   "outputs": [],
   "source": [
    "model = VARMAX(train1, order=(3,3))"
   ]
  },
  {
   "cell_type": "code",
   "execution_count": 16,
   "metadata": {},
   "outputs": [],
   "source": [
    "model_fit = model.fit(disp=False)"
   ]
  },
  {
   "cell_type": "code",
   "execution_count": 17,
   "metadata": {
    "scrolled": false
   },
   "outputs": [
    {
     "data": {
      "text/html": [
       "<table class=\"simpletable\">\n",
       "<caption>Statespace Model Results</caption>\n",
       "<tr>\n",
       "  <th>Dep. Variable:</th>   <td>['Open', 'High', 'Low', 'Close']</td> <th>  No. Observations:  </th>     <td>924</td>   \n",
       "</tr>\n",
       "<tr>\n",
       "  <th>Model:</th>                      <td>VARMA(3,3)</td>            <th>  Log Likelihood     </th> <td>-21549.917</td>\n",
       "</tr>\n",
       "<tr>\n",
       "  <th></th>                            <td>+ intercept</td>           <th>  AIC                </th>  <td>43319.835</td>\n",
       "</tr>\n",
       "<tr>\n",
       "  <th>Date:</th>                    <td>Sun, 03 Oct 2021</td>         <th>  BIC                </th>  <td>43850.993</td>\n",
       "</tr>\n",
       "<tr>\n",
       "  <th>Time:</th>                        <td>13:09:28</td>             <th>  HQIC               </th>  <td>43522.485</td>\n",
       "</tr>\n",
       "<tr>\n",
       "  <th>Sample:</th>                     <td>01-15-2016</td>            <th>                     </th>      <td> </td>    \n",
       "</tr>\n",
       "<tr>\n",
       "  <th></th>                           <td>- 07-31-2019</td>           <th>                     </th>      <td> </td>    \n",
       "</tr>\n",
       "<tr>\n",
       "  <th>Covariance Type:</th>                <td>opg</td>               <th>                     </th>      <td> </td>    \n",
       "</tr>\n",
       "</table>\n",
       "<table class=\"simpletable\">\n",
       "<tr>\n",
       "  <th>Ljung-Box (L1) (Q):</th>     <td>1.04, 1.48, 0.04, 0.27</td> <th>  Jarque-Bera (JB):  </th> <td>1055.90, 1222.06, 11264.10, 994.93</td>\n",
       "</tr>\n",
       "<tr>\n",
       "  <th>Prob(Q):</th>                <td>0.31, 0.22, 0.84, 0.61</td> <th>  Prob(JB):          </th>       <td>0.00, 0.00, 0.00, 0.00</td>      \n",
       "</tr>\n",
       "<tr>\n",
       "  <th>Heteroskedasticity (H):</th> <td>9.24, 2.51, 3.76, 3.80</td> <th>  Skew:              </th>      <td>-0.61, 1.06, -2.27, -0.32</td>    \n",
       "</tr>\n",
       "<tr>\n",
       "  <th>Prob(H) (two-sided):</th>    <td>0.00, 0.00, 0.00, 0.00</td> <th>  Kurtosis:          </th>       <td>8.09, 8.22, 19.49, 8.04</td>     \n",
       "</tr>\n",
       "</table>\n",
       "<table class=\"simpletable\">\n",
       "<caption>Results for equation Open</caption>\n",
       "<tr>\n",
       "       <td></td>          <th>coef</th>     <th>std err</th>      <th>z</th>      <th>P>|z|</th>  <th>[0.025</th>    <th>0.975]</th>  \n",
       "</tr>\n",
       "<tr>\n",
       "  <th>intercept</th>   <td>    2.9786</td> <td>    6.529</td> <td>    0.456</td> <td> 0.648</td> <td>   -9.817</td> <td>   15.775</td>\n",
       "</tr>\n",
       "<tr>\n",
       "  <th>L1.Open</th>     <td>   -0.5404</td> <td>    2.201</td> <td>   -0.246</td> <td> 0.806</td> <td>   -4.854</td> <td>    3.773</td>\n",
       "</tr>\n",
       "<tr>\n",
       "  <th>L1.High</th>     <td>   -0.1027</td> <td>    2.017</td> <td>   -0.051</td> <td> 0.959</td> <td>   -4.055</td> <td>    3.850</td>\n",
       "</tr>\n",
       "<tr>\n",
       "  <th>L1.Low</th>      <td>   -0.0063</td> <td>    2.014</td> <td>   -0.003</td> <td> 0.998</td> <td>   -3.954</td> <td>    3.942</td>\n",
       "</tr>\n",
       "<tr>\n",
       "  <th>L1.Close</th>    <td>    0.9171</td> <td>    2.178</td> <td>    0.421</td> <td> 0.674</td> <td>   -3.351</td> <td>    5.186</td>\n",
       "</tr>\n",
       "<tr>\n",
       "  <th>L2.Open</th>     <td>   -0.1926</td> <td>    1.746</td> <td>   -0.110</td> <td> 0.912</td> <td>   -3.615</td> <td>    3.230</td>\n",
       "</tr>\n",
       "<tr>\n",
       "  <th>L2.High</th>     <td>   -0.0488</td> <td>    1.549</td> <td>   -0.032</td> <td> 0.975</td> <td>   -3.086</td> <td>    2.988</td>\n",
       "</tr>\n",
       "<tr>\n",
       "  <th>L2.Low</th>      <td>   -0.0801</td> <td>    0.870</td> <td>   -0.092</td> <td> 0.927</td> <td>   -1.786</td> <td>    1.625</td>\n",
       "</tr>\n",
       "<tr>\n",
       "  <th>L2.Close</th>    <td>    0.5756</td> <td>    1.780</td> <td>    0.323</td> <td> 0.746</td> <td>   -2.913</td> <td>    4.065</td>\n",
       "</tr>\n",
       "<tr>\n",
       "  <th>L3.Open</th>     <td>    0.0652</td> <td>    0.248</td> <td>    0.263</td> <td> 0.793</td> <td>   -0.421</td> <td>    0.551</td>\n",
       "</tr>\n",
       "<tr>\n",
       "  <th>L3.High</th>     <td>   -0.0823</td> <td>    0.439</td> <td>   -0.188</td> <td> 0.851</td> <td>   -0.942</td> <td>    0.777</td>\n",
       "</tr>\n",
       "<tr>\n",
       "  <th>L3.Low</th>      <td>   -0.0417</td> <td>    0.222</td> <td>   -0.188</td> <td> 0.851</td> <td>   -0.478</td> <td>    0.394</td>\n",
       "</tr>\n",
       "<tr>\n",
       "  <th>L3.Close</th>    <td>    0.2771</td> <td>    0.738</td> <td>    0.376</td> <td> 0.707</td> <td>   -1.169</td> <td>    1.723</td>\n",
       "</tr>\n",
       "<tr>\n",
       "  <th>L1.e(Open)</th>  <td>   -0.3685</td> <td>    2.211</td> <td>   -0.167</td> <td> 0.868</td> <td>   -4.701</td> <td>    3.964</td>\n",
       "</tr>\n",
       "<tr>\n",
       "  <th>L1.e(High)</th>  <td>    0.0589</td> <td>    2.018</td> <td>    0.029</td> <td> 0.977</td> <td>   -3.896</td> <td>    4.013</td>\n",
       "</tr>\n",
       "<tr>\n",
       "  <th>L1.e(Low)</th>   <td>    0.0602</td> <td>    2.016</td> <td>    0.030</td> <td> 0.976</td> <td>   -3.891</td> <td>    4.011</td>\n",
       "</tr>\n",
       "<tr>\n",
       "  <th>L1.e(Close)</th> <td>    0.0299</td> <td>    2.178</td> <td>    0.014</td> <td> 0.989</td> <td>   -4.239</td> <td>    4.299</td>\n",
       "</tr>\n",
       "<tr>\n",
       "  <th>L2.e(Open)</th>  <td>   -0.3832</td> <td>    1.653</td> <td>   -0.232</td> <td> 0.817</td> <td>   -3.623</td> <td>    2.856</td>\n",
       "</tr>\n",
       "<tr>\n",
       "  <th>L2.e(High)</th>  <td>    0.0411</td> <td>    2.081</td> <td>    0.020</td> <td> 0.984</td> <td>   -4.037</td> <td>    4.120</td>\n",
       "</tr>\n",
       "<tr>\n",
       "  <th>L2.e(Low)</th>   <td>    0.0541</td> <td>    1.434</td> <td>    0.038</td> <td> 0.970</td> <td>   -2.757</td> <td>    2.865</td>\n",
       "</tr>\n",
       "<tr>\n",
       "  <th>L2.e(Close)</th> <td>    0.0200</td> <td>    1.731</td> <td>    0.012</td> <td> 0.991</td> <td>   -3.372</td> <td>    3.412</td>\n",
       "</tr>\n",
       "<tr>\n",
       "  <th>L3.e(Open)</th>  <td>   -0.3652</td> <td>    1.670</td> <td>   -0.219</td> <td> 0.827</td> <td>   -3.638</td> <td>    2.908</td>\n",
       "</tr>\n",
       "<tr>\n",
       "  <th>L3.e(High)</th>  <td>    0.0127</td> <td>    1.211</td> <td>    0.010</td> <td> 0.992</td> <td>   -2.361</td> <td>    2.387</td>\n",
       "</tr>\n",
       "<tr>\n",
       "  <th>L3.e(Low)</th>   <td>    0.0734</td> <td>    0.798</td> <td>    0.092</td> <td> 0.927</td> <td>   -1.490</td> <td>    1.637</td>\n",
       "</tr>\n",
       "<tr>\n",
       "  <th>L3.e(Close)</th> <td>    0.0060</td> <td>    0.844</td> <td>    0.007</td> <td> 0.994</td> <td>   -1.648</td> <td>    1.660</td>\n",
       "</tr>\n",
       "</table>\n",
       "<table class=\"simpletable\">\n",
       "<caption>Results for equation High</caption>\n",
       "<tr>\n",
       "       <td></td>          <th>coef</th>     <th>std err</th>      <th>z</th>      <th>P>|z|</th>  <th>[0.025</th>    <th>0.975]</th>  \n",
       "</tr>\n",
       "<tr>\n",
       "  <th>intercept</th>   <td>    7.9786</td> <td>    8.405</td> <td>    0.949</td> <td> 0.342</td> <td>   -8.494</td> <td>   24.451</td>\n",
       "</tr>\n",
       "<tr>\n",
       "  <th>L1.Open</th>     <td>    0.2427</td> <td>    2.736</td> <td>    0.089</td> <td> 0.929</td> <td>   -5.119</td> <td>    5.605</td>\n",
       "</tr>\n",
       "<tr>\n",
       "  <th>L1.High</th>     <td>   -0.8777</td> <td>    2.402</td> <td>   -0.365</td> <td> 0.715</td> <td>   -5.586</td> <td>    3.831</td>\n",
       "</tr>\n",
       "<tr>\n",
       "  <th>L1.Low</th>      <td>   -0.1009</td> <td>    2.227</td> <td>   -0.045</td> <td> 0.964</td> <td>   -4.466</td> <td>    4.264</td>\n",
       "</tr>\n",
       "<tr>\n",
       "  <th>L1.Close</th>    <td>    0.8603</td> <td>    2.383</td> <td>    0.361</td> <td> 0.718</td> <td>   -3.810</td> <td>    5.531</td>\n",
       "</tr>\n",
       "<tr>\n",
       "  <th>L2.Open</th>     <td>    0.2588</td> <td>    2.270</td> <td>    0.114</td> <td> 0.909</td> <td>   -4.191</td> <td>    4.709</td>\n",
       "</tr>\n",
       "<tr>\n",
       "  <th>L2.High</th>     <td>   -0.4618</td> <td>    1.950</td> <td>   -0.237</td> <td> 0.813</td> <td>   -4.283</td> <td>    3.359</td>\n",
       "</tr>\n",
       "<tr>\n",
       "  <th>L2.Low</th>      <td>   -0.1374</td> <td>    1.057</td> <td>   -0.130</td> <td> 0.897</td> <td>   -2.209</td> <td>    1.934</td>\n",
       "</tr>\n",
       "<tr>\n",
       "  <th>L2.Close</th>    <td>    0.4688</td> <td>    2.041</td> <td>    0.230</td> <td> 0.818</td> <td>   -3.532</td> <td>    4.469</td>\n",
       "</tr>\n",
       "<tr>\n",
       "  <th>L3.Open</th>     <td>    0.0813</td> <td>    0.305</td> <td>    0.266</td> <td> 0.790</td> <td>   -0.517</td> <td>    0.679</td>\n",
       "</tr>\n",
       "<tr>\n",
       "  <th>L3.High</th>     <td>   -0.1953</td> <td>    0.530</td> <td>   -0.369</td> <td> 0.712</td> <td>   -1.233</td> <td>    0.843</td>\n",
       "</tr>\n",
       "<tr>\n",
       "  <th>L3.Low</th>      <td>    0.0108</td> <td>    0.248</td> <td>    0.043</td> <td> 0.965</td> <td>   -0.476</td> <td>    0.498</td>\n",
       "</tr>\n",
       "<tr>\n",
       "  <th>L3.Close</th>    <td>    0.1605</td> <td>    0.946</td> <td>    0.170</td> <td> 0.865</td> <td>   -1.694</td> <td>    2.014</td>\n",
       "</tr>\n",
       "<tr>\n",
       "  <th>L1.e(Open)</th>  <td>   -0.0413</td> <td>    2.745</td> <td>   -0.015</td> <td> 0.988</td> <td>   -5.422</td> <td>    5.339</td>\n",
       "</tr>\n",
       "<tr>\n",
       "  <th>L1.e(High)</th>  <td>   -0.1164</td> <td>    2.398</td> <td>   -0.049</td> <td> 0.961</td> <td>   -4.816</td> <td>    4.583</td>\n",
       "</tr>\n",
       "<tr>\n",
       "  <th>L1.e(Low)</th>   <td>   -0.0470</td> <td>    2.234</td> <td>   -0.021</td> <td> 0.983</td> <td>   -4.425</td> <td>    4.331</td>\n",
       "</tr>\n",
       "<tr>\n",
       "  <th>L1.e(Close)</th> <td>    0.0809</td> <td>    2.391</td> <td>    0.034</td> <td> 0.973</td> <td>   -4.606</td> <td>    4.767</td>\n",
       "</tr>\n",
       "<tr>\n",
       "  <th>L2.e(Open)</th>  <td>   -0.0556</td> <td>    1.909</td> <td>   -0.029</td> <td> 0.977</td> <td>   -3.796</td> <td>    3.685</td>\n",
       "</tr>\n",
       "<tr>\n",
       "  <th>L2.e(High)</th>  <td>   -0.1745</td> <td>    2.339</td> <td>   -0.075</td> <td> 0.941</td> <td>   -4.759</td> <td>    4.410</td>\n",
       "</tr>\n",
       "<tr>\n",
       "  <th>L2.e(Low)</th>   <td>-4.232e-05</td> <td>    1.562</td> <td>-2.71e-05</td> <td> 1.000</td> <td>   -3.061</td> <td>    3.061</td>\n",
       "</tr>\n",
       "<tr>\n",
       "  <th>L2.e(Close)</th> <td>    0.0764</td> <td>    1.929</td> <td>    0.040</td> <td> 0.968</td> <td>   -3.705</td> <td>    3.858</td>\n",
       "</tr>\n",
       "<tr>\n",
       "  <th>L3.e(Open)</th>  <td>   -0.0664</td> <td>    2.194</td> <td>   -0.030</td> <td> 0.976</td> <td>   -4.366</td> <td>    4.233</td>\n",
       "</tr>\n",
       "<tr>\n",
       "  <th>L3.e(High)</th>  <td>   -0.2041</td> <td>    1.531</td> <td>   -0.133</td> <td> 0.894</td> <td>   -3.205</td> <td>    2.796</td>\n",
       "</tr>\n",
       "<tr>\n",
       "  <th>L3.e(Low)</th>   <td>    0.0442</td> <td>    0.969</td> <td>    0.046</td> <td> 0.964</td> <td>   -1.855</td> <td>    1.943</td>\n",
       "</tr>\n",
       "<tr>\n",
       "  <th>L3.e(Close)</th> <td>    0.0890</td> <td>    1.030</td> <td>    0.086</td> <td> 0.931</td> <td>   -1.931</td> <td>    2.108</td>\n",
       "</tr>\n",
       "</table>\n",
       "<table class=\"simpletable\">\n",
       "<caption>Results for equation Low</caption>\n",
       "<tr>\n",
       "       <td></td>          <th>coef</th>     <th>std err</th>      <th>z</th>      <th>P>|z|</th>  <th>[0.025</th>    <th>0.975]</th>  \n",
       "</tr>\n",
       "<tr>\n",
       "  <th>intercept</th>   <td>    7.4869</td> <td>   11.538</td> <td>    0.649</td> <td> 0.516</td> <td>  -15.127</td> <td>   30.101</td>\n",
       "</tr>\n",
       "<tr>\n",
       "  <th>L1.Open</th>     <td>    0.3109</td> <td>    3.580</td> <td>    0.087</td> <td> 0.931</td> <td>   -6.706</td> <td>    7.327</td>\n",
       "</tr>\n",
       "<tr>\n",
       "  <th>L1.High</th>     <td>   -0.3710</td> <td>    3.271</td> <td>   -0.113</td> <td> 0.910</td> <td>   -6.781</td> <td>    6.039</td>\n",
       "</tr>\n",
       "<tr>\n",
       "  <th>L1.Low</th>      <td>   -0.7358</td> <td>    3.061</td> <td>   -0.240</td> <td> 0.810</td> <td>   -6.736</td> <td>    5.264</td>\n",
       "</tr>\n",
       "<tr>\n",
       "  <th>L1.Close</th>    <td>    1.0064</td> <td>    3.281</td> <td>    0.307</td> <td> 0.759</td> <td>   -5.424</td> <td>    7.436</td>\n",
       "</tr>\n",
       "<tr>\n",
       "  <th>L2.Open</th>     <td>    0.5570</td> <td>    2.877</td> <td>    0.194</td> <td> 0.847</td> <td>   -5.083</td> <td>    6.197</td>\n",
       "</tr>\n",
       "<tr>\n",
       "  <th>L2.High</th>     <td>   -0.3805</td> <td>    2.565</td> <td>   -0.148</td> <td> 0.882</td> <td>   -5.407</td> <td>    4.646</td>\n",
       "</tr>\n",
       "<tr>\n",
       "  <th>L2.Low</th>      <td>   -0.6470</td> <td>    1.433</td> <td>   -0.452</td> <td> 0.652</td> <td>   -3.456</td> <td>    2.162</td>\n",
       "</tr>\n",
       "<tr>\n",
       "  <th>L2.Close</th>    <td>    0.6713</td> <td>    2.907</td> <td>    0.231</td> <td> 0.817</td> <td>   -5.026</td> <td>    6.369</td>\n",
       "</tr>\n",
       "<tr>\n",
       "  <th>L3.Open</th>     <td>    0.1005</td> <td>    0.385</td> <td>    0.261</td> <td> 0.794</td> <td>   -0.655</td> <td>    0.856</td>\n",
       "</tr>\n",
       "<tr>\n",
       "  <th>L3.High</th>     <td>   -0.2008</td> <td>    0.696</td> <td>   -0.288</td> <td> 0.773</td> <td>   -1.565</td> <td>    1.164</td>\n",
       "</tr>\n",
       "<tr>\n",
       "  <th>L3.Low</th>      <td>   -0.1100</td> <td>    0.335</td> <td>   -0.329</td> <td> 0.742</td> <td>   -0.766</td> <td>    0.546</td>\n",
       "</tr>\n",
       "<tr>\n",
       "  <th>L3.Close</th>    <td>    0.1198</td> <td>    1.201</td> <td>    0.100</td> <td> 0.921</td> <td>   -2.233</td> <td>    2.473</td>\n",
       "</tr>\n",
       "<tr>\n",
       "  <th>L1.e(Open)</th>  <td>   -0.0285</td> <td>    3.594</td> <td>   -0.008</td> <td> 0.994</td> <td>   -7.072</td> <td>    7.015</td>\n",
       "</tr>\n",
       "<tr>\n",
       "  <th>L1.e(High)</th>  <td>   -0.0555</td> <td>    3.265</td> <td>   -0.017</td> <td> 0.986</td> <td>   -6.454</td> <td>    6.343</td>\n",
       "</tr>\n",
       "<tr>\n",
       "  <th>L1.e(Low)</th>   <td>   -0.1019</td> <td>    3.062</td> <td>   -0.033</td> <td> 0.973</td> <td>   -6.103</td> <td>    5.900</td>\n",
       "</tr>\n",
       "<tr>\n",
       "  <th>L1.e(Close)</th> <td>    0.1031</td> <td>    3.277</td> <td>    0.031</td> <td> 0.975</td> <td>   -6.320</td> <td>    6.526</td>\n",
       "</tr>\n",
       "<tr>\n",
       "  <th>L2.e(Open)</th>  <td>   -0.0467</td> <td>    2.740</td> <td>   -0.017</td> <td> 0.986</td> <td>   -5.417</td> <td>    5.324</td>\n",
       "</tr>\n",
       "<tr>\n",
       "  <th>L2.e(High)</th>  <td>   -0.0641</td> <td>    3.297</td> <td>   -0.019</td> <td> 0.984</td> <td>   -6.526</td> <td>    6.397</td>\n",
       "</tr>\n",
       "<tr>\n",
       "  <th>L2.e(Low)</th>   <td>   -0.1151</td> <td>    2.225</td> <td>   -0.052</td> <td> 0.959</td> <td>   -4.476</td> <td>    4.246</td>\n",
       "</tr>\n",
       "<tr>\n",
       "  <th>L2.e(Close)</th> <td>    0.1365</td> <td>    2.696</td> <td>    0.051</td> <td> 0.960</td> <td>   -5.148</td> <td>    5.421</td>\n",
       "</tr>\n",
       "<tr>\n",
       "  <th>L3.e(Open)</th>  <td>   -0.0042</td> <td>    2.769</td> <td>   -0.002</td> <td> 0.999</td> <td>   -5.431</td> <td>    5.423</td>\n",
       "</tr>\n",
       "<tr>\n",
       "  <th>L3.e(High)</th>  <td>   -0.0953</td> <td>    2.006</td> <td>   -0.048</td> <td> 0.962</td> <td>   -4.026</td> <td>    3.836</td>\n",
       "</tr>\n",
       "<tr>\n",
       "  <th>L3.e(Low)</th>   <td>   -0.1654</td> <td>    1.305</td> <td>   -0.127</td> <td> 0.899</td> <td>   -2.724</td> <td>    2.393</td>\n",
       "</tr>\n",
       "<tr>\n",
       "  <th>L3.e(Close)</th> <td>    0.1335</td> <td>    1.413</td> <td>    0.094</td> <td> 0.925</td> <td>   -2.637</td> <td>    2.904</td>\n",
       "</tr>\n",
       "</table>\n",
       "<table class=\"simpletable\">\n",
       "<caption>Results for equation Close</caption>\n",
       "<tr>\n",
       "       <td></td>          <th>coef</th>     <th>std err</th>      <th>z</th>      <th>P>|z|</th>  <th>[0.025</th>    <th>0.975]</th>  \n",
       "</tr>\n",
       "<tr>\n",
       "  <th>intercept</th>   <td>   12.3981</td> <td>   13.339</td> <td>    0.929</td> <td> 0.353</td> <td>  -13.746</td> <td>   38.542</td>\n",
       "</tr>\n",
       "<tr>\n",
       "  <th>L1.Open</th>     <td>    0.3830</td> <td>    4.016</td> <td>    0.095</td> <td> 0.924</td> <td>   -7.488</td> <td>    8.254</td>\n",
       "</tr>\n",
       "<tr>\n",
       "  <th>L1.High</th>     <td>   -0.2892</td> <td>    3.776</td> <td>   -0.077</td> <td> 0.939</td> <td>   -7.691</td> <td>    7.112</td>\n",
       "</tr>\n",
       "<tr>\n",
       "  <th>L1.Low</th>      <td>   -0.1713</td> <td>    3.402</td> <td>   -0.050</td> <td> 0.960</td> <td>   -6.839</td> <td>    6.496</td>\n",
       "</tr>\n",
       "<tr>\n",
       "  <th>L1.Close</th>    <td>    0.1738</td> <td>    3.647</td> <td>    0.048</td> <td> 0.962</td> <td>   -6.974</td> <td>    7.322</td>\n",
       "</tr>\n",
       "<tr>\n",
       "  <th>L2.Open</th>     <td>    0.6320</td> <td>    3.205</td> <td>    0.197</td> <td> 0.844</td> <td>   -5.649</td> <td>    6.913</td>\n",
       "</tr>\n",
       "<tr>\n",
       "  <th>L2.High</th>     <td>   -0.4423</td> <td>    2.948</td> <td>   -0.150</td> <td> 0.881</td> <td>   -6.220</td> <td>    5.335</td>\n",
       "</tr>\n",
       "<tr>\n",
       "  <th>L2.Low</th>      <td>   -0.2516</td> <td>    1.590</td> <td>   -0.158</td> <td> 0.874</td> <td>   -3.368</td> <td>    2.865</td>\n",
       "</tr>\n",
       "<tr>\n",
       "  <th>L2.Close</th>    <td>    0.1213</td> <td>    3.103</td> <td>    0.039</td> <td> 0.969</td> <td>   -5.961</td> <td>    6.204</td>\n",
       "</tr>\n",
       "<tr>\n",
       "  <th>L3.Open</th>     <td>    0.0915</td> <td>    0.451</td> <td>    0.203</td> <td> 0.839</td> <td>   -0.792</td> <td>    0.975</td>\n",
       "</tr>\n",
       "<tr>\n",
       "  <th>L3.High</th>     <td>   -0.2999</td> <td>    0.793</td> <td>   -0.378</td> <td> 0.705</td> <td>   -1.853</td> <td>    1.253</td>\n",
       "</tr>\n",
       "<tr>\n",
       "  <th>L3.Low</th>      <td>   -0.0251</td> <td>    0.385</td> <td>   -0.065</td> <td> 0.948</td> <td>   -0.780</td> <td>    0.730</td>\n",
       "</tr>\n",
       "<tr>\n",
       "  <th>L3.Close</th>    <td>   -0.0283</td> <td>    1.264</td> <td>   -0.022</td> <td> 0.982</td> <td>   -2.505</td> <td>    2.449</td>\n",
       "</tr>\n",
       "<tr>\n",
       "  <th>L1.e(Open)</th>  <td>    0.0075</td> <td>    4.018</td> <td>    0.002</td> <td> 0.999</td> <td>   -7.867</td> <td>    7.882</td>\n",
       "</tr>\n",
       "<tr>\n",
       "  <th>L1.e(High)</th>  <td>    0.0512</td> <td>    3.773</td> <td>    0.014</td> <td> 0.989</td> <td>   -7.345</td> <td>    7.447</td>\n",
       "</tr>\n",
       "<tr>\n",
       "  <th>L1.e(Low)</th>   <td>    0.0599</td> <td>    3.396</td> <td>    0.018</td> <td> 0.986</td> <td>   -6.596</td> <td>    6.716</td>\n",
       "</tr>\n",
       "<tr>\n",
       "  <th>L1.e(Close)</th> <td>   -0.1229</td> <td>    3.646</td> <td>   -0.034</td> <td> 0.973</td> <td>   -7.269</td> <td>    7.023</td>\n",
       "</tr>\n",
       "<tr>\n",
       "  <th>L2.e(Open)</th>  <td>   -0.0257</td> <td>    3.109</td> <td>   -0.008</td> <td> 0.993</td> <td>   -6.120</td> <td>    6.069</td>\n",
       "</tr>\n",
       "<tr>\n",
       "  <th>L2.e(High)</th>  <td>    0.0411</td> <td>    3.763</td> <td>    0.011</td> <td> 0.991</td> <td>   -7.333</td> <td>    7.416</td>\n",
       "</tr>\n",
       "<tr>\n",
       "  <th>L2.e(Low)</th>   <td>    0.1176</td> <td>    2.451</td> <td>    0.048</td> <td> 0.962</td> <td>   -4.686</td> <td>    4.921</td>\n",
       "</tr>\n",
       "<tr>\n",
       "  <th>L2.e(Close)</th> <td>   -0.1102</td> <td>    3.027</td> <td>   -0.036</td> <td> 0.971</td> <td>   -6.043</td> <td>    5.822</td>\n",
       "</tr>\n",
       "<tr>\n",
       "  <th>L3.e(Open)</th>  <td>    0.0053</td> <td>    3.056</td> <td>    0.002</td> <td> 0.999</td> <td>   -5.983</td> <td>    5.994</td>\n",
       "</tr>\n",
       "<tr>\n",
       "  <th>L3.e(High)</th>  <td>    0.0223</td> <td>    2.316</td> <td>    0.010</td> <td> 0.992</td> <td>   -4.518</td> <td>    4.562</td>\n",
       "</tr>\n",
       "<tr>\n",
       "  <th>L3.e(Low)</th>   <td>    0.1209</td> <td>    1.428</td> <td>    0.085</td> <td> 0.933</td> <td>   -2.677</td> <td>    2.919</td>\n",
       "</tr>\n",
       "<tr>\n",
       "  <th>L3.e(Close)</th> <td>   -0.1165</td> <td>    1.591</td> <td>   -0.073</td> <td> 0.942</td> <td>   -3.235</td> <td>    3.002</td>\n",
       "</tr>\n",
       "</table>\n",
       "<table class=\"simpletable\">\n",
       "<caption>Error covariance matrix</caption>\n",
       "<tr>\n",
       "           <td></td>              <th>coef</th>     <th>std err</th>      <th>z</th>      <th>P>|z|</th>  <th>[0.025</th>    <th>0.975]</th>  \n",
       "</tr>\n",
       "<tr>\n",
       "  <th>sqrt.var.Open</th>       <td>   82.0028</td> <td>    2.176</td> <td>   37.690</td> <td> 0.000</td> <td>   77.738</td> <td>   86.267</td>\n",
       "</tr>\n",
       "<tr>\n",
       "  <th>sqrt.cov.Open.High</th>  <td>   88.6956</td> <td>    3.738</td> <td>   23.726</td> <td> 0.000</td> <td>   81.369</td> <td>   96.023</td>\n",
       "</tr>\n",
       "<tr>\n",
       "  <th>sqrt.var.High</th>       <td>   88.6535</td> <td>    2.501</td> <td>   35.449</td> <td> 0.000</td> <td>   83.752</td> <td>   93.555</td>\n",
       "</tr>\n",
       "<tr>\n",
       "  <th>sqrt.cov.Open.Low</th>   <td>  109.8555</td> <td>    6.052</td> <td>   18.153</td> <td> 0.000</td> <td>   97.994</td> <td>  121.717</td>\n",
       "</tr>\n",
       "<tr>\n",
       "  <th>sqrt.cov.High.Low</th>   <td>   59.0135</td> <td>    6.276</td> <td>    9.403</td> <td> 0.000</td> <td>   46.713</td> <td>   71.314</td>\n",
       "</tr>\n",
       "<tr>\n",
       "  <th>sqrt.var.Low</th>        <td>  108.6640</td> <td>    1.912</td> <td>   56.826</td> <td> 0.000</td> <td>  104.916</td> <td>  112.412</td>\n",
       "</tr>\n",
       "<tr>\n",
       "  <th>sqrt.cov.Open.Close</th> <td>   90.1996</td> <td>    6.981</td> <td>   12.920</td> <td> 0.000</td> <td>   76.516</td> <td>  103.883</td>\n",
       "</tr>\n",
       "<tr>\n",
       "  <th>sqrt.cov.High.Close</th> <td>  123.2593</td> <td>    6.789</td> <td>   18.155</td> <td> 0.000</td> <td>  109.953</td> <td>  136.566</td>\n",
       "</tr>\n",
       "<tr>\n",
       "  <th>sqrt.cov.Low.Close</th>  <td>   85.5386</td> <td>    2.827</td> <td>   30.253</td> <td> 0.000</td> <td>   79.997</td> <td>   91.080</td>\n",
       "</tr>\n",
       "<tr>\n",
       "  <th>sqrt.var.Close</th>      <td>   72.9984</td> <td>    1.764</td> <td>   41.377</td> <td> 0.000</td> <td>   69.541</td> <td>   76.456</td>\n",
       "</tr>\n",
       "</table><br/><br/>Warnings:<br/>[1] Covariance matrix calculated using the outer product of gradients (complex-step)."
      ],
      "text/plain": [
       "<class 'statsmodels.iolib.summary.Summary'>\n",
       "\"\"\"\n",
       "                                  Statespace Model Results                                  \n",
       "============================================================================================\n",
       "Dep. Variable:     ['Open', 'High', 'Low', 'Close']   No. Observations:                  924\n",
       "Model:                                   VARMA(3,3)   Log Likelihood              -21549.917\n",
       "                                        + intercept   AIC                          43319.835\n",
       "Date:                              Sun, 03 Oct 2021   BIC                          43850.993\n",
       "Time:                                      13:09:28   HQIC                         43522.485\n",
       "Sample:                                  01-15-2016                                         \n",
       "                                       - 07-31-2019                                         \n",
       "Covariance Type:                                opg                                         \n",
       "=======================================================================================================\n",
       "Ljung-Box (L1) (Q):     1.04, 1.48, 0.04, 0.27   Jarque-Bera (JB):   1055.90, 1222.06, 11264.10, 994.93\n",
       "Prob(Q):                0.31, 0.22, 0.84, 0.61   Prob(JB):                       0.00, 0.00, 0.00, 0.00\n",
       "Heteroskedasticity (H): 9.24, 2.51, 3.76, 3.80   Skew:                        -0.61, 1.06, -2.27, -0.32\n",
       "Prob(H) (two-sided):    0.00, 0.00, 0.00, 0.00   Kurtosis:                      8.09, 8.22, 19.49, 8.04\n",
       "                           Results for equation Open                           \n",
       "===============================================================================\n",
       "                  coef    std err          z      P>|z|      [0.025      0.975]\n",
       "-------------------------------------------------------------------------------\n",
       "intercept       2.9786      6.529      0.456      0.648      -9.817      15.775\n",
       "L1.Open        -0.5404      2.201     -0.246      0.806      -4.854       3.773\n",
       "L1.High        -0.1027      2.017     -0.051      0.959      -4.055       3.850\n",
       "L1.Low         -0.0063      2.014     -0.003      0.998      -3.954       3.942\n",
       "L1.Close        0.9171      2.178      0.421      0.674      -3.351       5.186\n",
       "L2.Open        -0.1926      1.746     -0.110      0.912      -3.615       3.230\n",
       "L2.High        -0.0488      1.549     -0.032      0.975      -3.086       2.988\n",
       "L2.Low         -0.0801      0.870     -0.092      0.927      -1.786       1.625\n",
       "L2.Close        0.5756      1.780      0.323      0.746      -2.913       4.065\n",
       "L3.Open         0.0652      0.248      0.263      0.793      -0.421       0.551\n",
       "L3.High        -0.0823      0.439     -0.188      0.851      -0.942       0.777\n",
       "L3.Low         -0.0417      0.222     -0.188      0.851      -0.478       0.394\n",
       "L3.Close        0.2771      0.738      0.376      0.707      -1.169       1.723\n",
       "L1.e(Open)     -0.3685      2.211     -0.167      0.868      -4.701       3.964\n",
       "L1.e(High)      0.0589      2.018      0.029      0.977      -3.896       4.013\n",
       "L1.e(Low)       0.0602      2.016      0.030      0.976      -3.891       4.011\n",
       "L1.e(Close)     0.0299      2.178      0.014      0.989      -4.239       4.299\n",
       "L2.e(Open)     -0.3832      1.653     -0.232      0.817      -3.623       2.856\n",
       "L2.e(High)      0.0411      2.081      0.020      0.984      -4.037       4.120\n",
       "L2.e(Low)       0.0541      1.434      0.038      0.970      -2.757       2.865\n",
       "L2.e(Close)     0.0200      1.731      0.012      0.991      -3.372       3.412\n",
       "L3.e(Open)     -0.3652      1.670     -0.219      0.827      -3.638       2.908\n",
       "L3.e(High)      0.0127      1.211      0.010      0.992      -2.361       2.387\n",
       "L3.e(Low)       0.0734      0.798      0.092      0.927      -1.490       1.637\n",
       "L3.e(Close)     0.0060      0.844      0.007      0.994      -1.648       1.660\n",
       "                           Results for equation High                           \n",
       "===============================================================================\n",
       "                  coef    std err          z      P>|z|      [0.025      0.975]\n",
       "-------------------------------------------------------------------------------\n",
       "intercept       7.9786      8.405      0.949      0.342      -8.494      24.451\n",
       "L1.Open         0.2427      2.736      0.089      0.929      -5.119       5.605\n",
       "L1.High        -0.8777      2.402     -0.365      0.715      -5.586       3.831\n",
       "L1.Low         -0.1009      2.227     -0.045      0.964      -4.466       4.264\n",
       "L1.Close        0.8603      2.383      0.361      0.718      -3.810       5.531\n",
       "L2.Open         0.2588      2.270      0.114      0.909      -4.191       4.709\n",
       "L2.High        -0.4618      1.950     -0.237      0.813      -4.283       3.359\n",
       "L2.Low         -0.1374      1.057     -0.130      0.897      -2.209       1.934\n",
       "L2.Close        0.4688      2.041      0.230      0.818      -3.532       4.469\n",
       "L3.Open         0.0813      0.305      0.266      0.790      -0.517       0.679\n",
       "L3.High        -0.1953      0.530     -0.369      0.712      -1.233       0.843\n",
       "L3.Low          0.0108      0.248      0.043      0.965      -0.476       0.498\n",
       "L3.Close        0.1605      0.946      0.170      0.865      -1.694       2.014\n",
       "L1.e(Open)     -0.0413      2.745     -0.015      0.988      -5.422       5.339\n",
       "L1.e(High)     -0.1164      2.398     -0.049      0.961      -4.816       4.583\n",
       "L1.e(Low)      -0.0470      2.234     -0.021      0.983      -4.425       4.331\n",
       "L1.e(Close)     0.0809      2.391      0.034      0.973      -4.606       4.767\n",
       "L2.e(Open)     -0.0556      1.909     -0.029      0.977      -3.796       3.685\n",
       "L2.e(High)     -0.1745      2.339     -0.075      0.941      -4.759       4.410\n",
       "L2.e(Low)   -4.232e-05      1.562  -2.71e-05      1.000      -3.061       3.061\n",
       "L2.e(Close)     0.0764      1.929      0.040      0.968      -3.705       3.858\n",
       "L3.e(Open)     -0.0664      2.194     -0.030      0.976      -4.366       4.233\n",
       "L3.e(High)     -0.2041      1.531     -0.133      0.894      -3.205       2.796\n",
       "L3.e(Low)       0.0442      0.969      0.046      0.964      -1.855       1.943\n",
       "L3.e(Close)     0.0890      1.030      0.086      0.931      -1.931       2.108\n",
       "                            Results for equation Low                           \n",
       "===============================================================================\n",
       "                  coef    std err          z      P>|z|      [0.025      0.975]\n",
       "-------------------------------------------------------------------------------\n",
       "intercept       7.4869     11.538      0.649      0.516     -15.127      30.101\n",
       "L1.Open         0.3109      3.580      0.087      0.931      -6.706       7.327\n",
       "L1.High        -0.3710      3.271     -0.113      0.910      -6.781       6.039\n",
       "L1.Low         -0.7358      3.061     -0.240      0.810      -6.736       5.264\n",
       "L1.Close        1.0064      3.281      0.307      0.759      -5.424       7.436\n",
       "L2.Open         0.5570      2.877      0.194      0.847      -5.083       6.197\n",
       "L2.High        -0.3805      2.565     -0.148      0.882      -5.407       4.646\n",
       "L2.Low         -0.6470      1.433     -0.452      0.652      -3.456       2.162\n",
       "L2.Close        0.6713      2.907      0.231      0.817      -5.026       6.369\n",
       "L3.Open         0.1005      0.385      0.261      0.794      -0.655       0.856\n",
       "L3.High        -0.2008      0.696     -0.288      0.773      -1.565       1.164\n",
       "L3.Low         -0.1100      0.335     -0.329      0.742      -0.766       0.546\n",
       "L3.Close        0.1198      1.201      0.100      0.921      -2.233       2.473\n",
       "L1.e(Open)     -0.0285      3.594     -0.008      0.994      -7.072       7.015\n",
       "L1.e(High)     -0.0555      3.265     -0.017      0.986      -6.454       6.343\n",
       "L1.e(Low)      -0.1019      3.062     -0.033      0.973      -6.103       5.900\n",
       "L1.e(Close)     0.1031      3.277      0.031      0.975      -6.320       6.526\n",
       "L2.e(Open)     -0.0467      2.740     -0.017      0.986      -5.417       5.324\n",
       "L2.e(High)     -0.0641      3.297     -0.019      0.984      -6.526       6.397\n",
       "L2.e(Low)      -0.1151      2.225     -0.052      0.959      -4.476       4.246\n",
       "L2.e(Close)     0.1365      2.696      0.051      0.960      -5.148       5.421\n",
       "L3.e(Open)     -0.0042      2.769     -0.002      0.999      -5.431       5.423\n",
       "L3.e(High)     -0.0953      2.006     -0.048      0.962      -4.026       3.836\n",
       "L3.e(Low)      -0.1654      1.305     -0.127      0.899      -2.724       2.393\n",
       "L3.e(Close)     0.1335      1.413      0.094      0.925      -2.637       2.904\n",
       "                           Results for equation Close                          \n",
       "===============================================================================\n",
       "                  coef    std err          z      P>|z|      [0.025      0.975]\n",
       "-------------------------------------------------------------------------------\n",
       "intercept      12.3981     13.339      0.929      0.353     -13.746      38.542\n",
       "L1.Open         0.3830      4.016      0.095      0.924      -7.488       8.254\n",
       "L1.High        -0.2892      3.776     -0.077      0.939      -7.691       7.112\n",
       "L1.Low         -0.1713      3.402     -0.050      0.960      -6.839       6.496\n",
       "L1.Close        0.1738      3.647      0.048      0.962      -6.974       7.322\n",
       "L2.Open         0.6320      3.205      0.197      0.844      -5.649       6.913\n",
       "L2.High        -0.4423      2.948     -0.150      0.881      -6.220       5.335\n",
       "L2.Low         -0.2516      1.590     -0.158      0.874      -3.368       2.865\n",
       "L2.Close        0.1213      3.103      0.039      0.969      -5.961       6.204\n",
       "L3.Open         0.0915      0.451      0.203      0.839      -0.792       0.975\n",
       "L3.High        -0.2999      0.793     -0.378      0.705      -1.853       1.253\n",
       "L3.Low         -0.0251      0.385     -0.065      0.948      -0.780       0.730\n",
       "L3.Close       -0.0283      1.264     -0.022      0.982      -2.505       2.449\n",
       "L1.e(Open)      0.0075      4.018      0.002      0.999      -7.867       7.882\n",
       "L1.e(High)      0.0512      3.773      0.014      0.989      -7.345       7.447\n",
       "L1.e(Low)       0.0599      3.396      0.018      0.986      -6.596       6.716\n",
       "L1.e(Close)    -0.1229      3.646     -0.034      0.973      -7.269       7.023\n",
       "L2.e(Open)     -0.0257      3.109     -0.008      0.993      -6.120       6.069\n",
       "L2.e(High)      0.0411      3.763      0.011      0.991      -7.333       7.416\n",
       "L2.e(Low)       0.1176      2.451      0.048      0.962      -4.686       4.921\n",
       "L2.e(Close)    -0.1102      3.027     -0.036      0.971      -6.043       5.822\n",
       "L3.e(Open)      0.0053      3.056      0.002      0.999      -5.983       5.994\n",
       "L3.e(High)      0.0223      2.316      0.010      0.992      -4.518       4.562\n",
       "L3.e(Low)       0.1209      1.428      0.085      0.933      -2.677       2.919\n",
       "L3.e(Close)    -0.1165      1.591     -0.073      0.942      -3.235       3.002\n",
       "                                Error covariance matrix                                \n",
       "=======================================================================================\n",
       "                          coef    std err          z      P>|z|      [0.025      0.975]\n",
       "---------------------------------------------------------------------------------------\n",
       "sqrt.var.Open          82.0028      2.176     37.690      0.000      77.738      86.267\n",
       "sqrt.cov.Open.High     88.6956      3.738     23.726      0.000      81.369      96.023\n",
       "sqrt.var.High          88.6535      2.501     35.449      0.000      83.752      93.555\n",
       "sqrt.cov.Open.Low     109.8555      6.052     18.153      0.000      97.994     121.717\n",
       "sqrt.cov.High.Low      59.0135      6.276      9.403      0.000      46.713      71.314\n",
       "sqrt.var.Low          108.6640      1.912     56.826      0.000     104.916     112.412\n",
       "sqrt.cov.Open.Close    90.1996      6.981     12.920      0.000      76.516     103.883\n",
       "sqrt.cov.High.Close   123.2593      6.789     18.155      0.000     109.953     136.566\n",
       "sqrt.cov.Low.Close     85.5386      2.827     30.253      0.000      79.997      91.080\n",
       "sqrt.var.Close         72.9984      1.764     41.377      0.000      69.541      76.456\n",
       "=======================================================================================\n",
       "\n",
       "Warnings:\n",
       "[1] Covariance matrix calculated using the outer product of gradients (complex-step).\n",
       "\"\"\""
      ]
     },
     "execution_count": 17,
     "metadata": {},
     "output_type": "execute_result"
    }
   ],
   "source": [
    "model_fit.summary()"
   ]
  },
  {
   "cell_type": "code",
   "execution_count": 18,
   "metadata": {},
   "outputs": [
    {
     "data": {
      "text/html": [
       "<div>\n",
       "<style scoped>\n",
       "    .dataframe tbody tr th:only-of-type {\n",
       "        vertical-align: middle;\n",
       "    }\n",
       "\n",
       "    .dataframe tbody tr th {\n",
       "        vertical-align: top;\n",
       "    }\n",
       "\n",
       "    .dataframe thead th {\n",
       "        text-align: right;\n",
       "    }\n",
       "</style>\n",
       "<table border=\"1\" class=\"dataframe\">\n",
       "  <thead>\n",
       "    <tr style=\"text-align: right;\">\n",
       "      <th></th>\n",
       "      <th>Open</th>\n",
       "      <th>High</th>\n",
       "      <th>Low</th>\n",
       "      <th>Close</th>\n",
       "    </tr>\n",
       "    <tr>\n",
       "      <th>Time_Stamp</th>\n",
       "      <th></th>\n",
       "      <th></th>\n",
       "      <th></th>\n",
       "      <th></th>\n",
       "    </tr>\n",
       "  </thead>\n",
       "  <tbody>\n",
       "    <tr>\n",
       "      <th>2019-07-29</th>\n",
       "      <td>19.349609</td>\n",
       "      <td>-29.179688</td>\n",
       "      <td>88.939453</td>\n",
       "      <td>37.070312</td>\n",
       "    </tr>\n",
       "    <tr>\n",
       "      <th>2019-07-30</th>\n",
       "      <td>-70.609375</td>\n",
       "      <td>-104.681640</td>\n",
       "      <td>-161.388672</td>\n",
       "      <td>-142.699218</td>\n",
       "    </tr>\n",
       "    <tr>\n",
       "      <th>2019-07-31</th>\n",
       "      <td>-135.941406</td>\n",
       "      <td>-62.068360</td>\n",
       "      <td>-48.419922</td>\n",
       "      <td>33.980468</td>\n",
       "    </tr>\n",
       "  </tbody>\n",
       "</table>\n",
       "</div>"
      ],
      "text/plain": [
       "                  Open        High         Low       Close\n",
       "Time_Stamp                                                \n",
       "2019-07-29   19.349609  -29.179688   88.939453   37.070312\n",
       "2019-07-30  -70.609375 -104.681640 -161.388672 -142.699218\n",
       "2019-07-31 -135.941406  -62.068360  -48.419922   33.980468"
      ]
     },
     "execution_count": 18,
     "metadata": {},
     "output_type": "execute_result"
    }
   ],
   "source": [
    "forecast_input=train1[-3:]\n",
    "forecast_input"
   ]
  },
  {
   "cell_type": "code",
   "execution_count": 19,
   "metadata": {},
   "outputs": [],
   "source": [
    "forecast=model_fit.forecast(y=forecast_input,steps=len(test))"
   ]
  },
  {
   "cell_type": "code",
   "execution_count": 20,
   "metadata": {},
   "outputs": [
    {
     "data": {
      "text/html": [
       "<div>\n",
       "<style scoped>\n",
       "    .dataframe tbody tr th:only-of-type {\n",
       "        vertical-align: middle;\n",
       "    }\n",
       "\n",
       "    .dataframe tbody tr th {\n",
       "        vertical-align: top;\n",
       "    }\n",
       "\n",
       "    .dataframe thead th {\n",
       "        text-align: right;\n",
       "    }\n",
       "</style>\n",
       "<table border=\"1\" class=\"dataframe\">\n",
       "  <thead>\n",
       "    <tr style=\"text-align: right;\">\n",
       "      <th></th>\n",
       "      <th>Open</th>\n",
       "      <th>High</th>\n",
       "      <th>Low</th>\n",
       "      <th>Close</th>\n",
       "    </tr>\n",
       "  </thead>\n",
       "  <tbody>\n",
       "    <tr>\n",
       "      <th>2019-08-01</th>\n",
       "      <td>97.351007</td>\n",
       "      <td>84.279030</td>\n",
       "      <td>57.218379</td>\n",
       "      <td>32.793679</td>\n",
       "    </tr>\n",
       "    <tr>\n",
       "      <th>2019-08-02</th>\n",
       "      <td>29.007024</td>\n",
       "      <td>9.199107</td>\n",
       "      <td>26.836989</td>\n",
       "      <td>14.102420</td>\n",
       "    </tr>\n",
       "    <tr>\n",
       "      <th>2019-08-05</th>\n",
       "      <td>18.212598</td>\n",
       "      <td>31.260721</td>\n",
       "      <td>27.344084</td>\n",
       "      <td>37.304416</td>\n",
       "    </tr>\n",
       "    <tr>\n",
       "      <th>2019-08-06</th>\n",
       "      <td>30.009269</td>\n",
       "      <td>17.809171</td>\n",
       "      <td>14.231189</td>\n",
       "      <td>2.628117</td>\n",
       "    </tr>\n",
       "    <tr>\n",
       "      <th>2019-08-07</th>\n",
       "      <td>5.421137</td>\n",
       "      <td>7.574763</td>\n",
       "      <td>7.788006</td>\n",
       "      <td>10.916714</td>\n",
       "    </tr>\n",
       "  </tbody>\n",
       "</table>\n",
       "</div>"
      ],
      "text/plain": [
       "                 Open       High        Low      Close\n",
       "2019-08-01  97.351007  84.279030  57.218379  32.793679\n",
       "2019-08-02  29.007024   9.199107  26.836989  14.102420\n",
       "2019-08-05  18.212598  31.260721  27.344084  37.304416\n",
       "2019-08-06  30.009269  17.809171  14.231189   2.628117\n",
       "2019-08-07   5.421137   7.574763   7.788006  10.916714"
      ]
     },
     "execution_count": 20,
     "metadata": {},
     "output_type": "execute_result"
    }
   ],
   "source": [
    "forecast.head()"
   ]
  },
  {
   "cell_type": "code",
   "execution_count": 23,
   "metadata": {},
   "outputs": [],
   "source": [
    "df_results = invert_transformation(train,forecast)"
   ]
  },
  {
   "cell_type": "code",
   "execution_count": 24,
   "metadata": {},
   "outputs": [
    {
     "data": {
      "text/html": [
       "<div>\n",
       "<style scoped>\n",
       "    .dataframe tbody tr th:only-of-type {\n",
       "        vertical-align: middle;\n",
       "    }\n",
       "\n",
       "    .dataframe tbody tr th {\n",
       "        vertical-align: top;\n",
       "    }\n",
       "\n",
       "    .dataframe thead th {\n",
       "        text-align: right;\n",
       "    }\n",
       "</style>\n",
       "<table border=\"1\" class=\"dataframe\">\n",
       "  <thead>\n",
       "    <tr style=\"text-align: right;\">\n",
       "      <th></th>\n",
       "      <th>Open</th>\n",
       "      <th>High</th>\n",
       "      <th>Low</th>\n",
       "      <th>Close</th>\n",
       "      <th>Open_forecast</th>\n",
       "      <th>High_forecast</th>\n",
       "      <th>Low_forecast</th>\n",
       "      <th>Close_forecast</th>\n",
       "    </tr>\n",
       "  </thead>\n",
       "  <tbody>\n",
       "    <tr>\n",
       "      <th>2019-08-01</th>\n",
       "      <td>97.351007</td>\n",
       "      <td>84.279030</td>\n",
       "      <td>57.218379</td>\n",
       "      <td>32.793679</td>\n",
       "      <td>27107.470148</td>\n",
       "      <td>27195.079811</td>\n",
       "      <td>27041.359004</td>\n",
       "      <td>27143.594460</td>\n",
       "    </tr>\n",
       "    <tr>\n",
       "      <th>2019-08-02</th>\n",
       "      <td>29.007024</td>\n",
       "      <td>9.199107</td>\n",
       "      <td>26.836989</td>\n",
       "      <td>14.102420</td>\n",
       "      <td>27136.477172</td>\n",
       "      <td>27204.278918</td>\n",
       "      <td>27068.195994</td>\n",
       "      <td>27157.696879</td>\n",
       "    </tr>\n",
       "    <tr>\n",
       "      <th>2019-08-05</th>\n",
       "      <td>18.212598</td>\n",
       "      <td>31.260721</td>\n",
       "      <td>27.344084</td>\n",
       "      <td>37.304416</td>\n",
       "      <td>27154.689769</td>\n",
       "      <td>27235.539638</td>\n",
       "      <td>27095.540077</td>\n",
       "      <td>27195.001295</td>\n",
       "    </tr>\n",
       "    <tr>\n",
       "      <th>2019-08-06</th>\n",
       "      <td>30.009269</td>\n",
       "      <td>17.809171</td>\n",
       "      <td>14.231189</td>\n",
       "      <td>2.628117</td>\n",
       "      <td>27184.699038</td>\n",
       "      <td>27253.348809</td>\n",
       "      <td>27109.771267</td>\n",
       "      <td>27197.629412</td>\n",
       "    </tr>\n",
       "    <tr>\n",
       "      <th>2019-08-07</th>\n",
       "      <td>5.421137</td>\n",
       "      <td>7.574763</td>\n",
       "      <td>7.788006</td>\n",
       "      <td>10.916714</td>\n",
       "      <td>27190.120175</td>\n",
       "      <td>27260.923571</td>\n",
       "      <td>27117.559272</td>\n",
       "      <td>27208.546126</td>\n",
       "    </tr>\n",
       "  </tbody>\n",
       "</table>\n",
       "</div>"
      ],
      "text/plain": [
       "                 Open       High        Low      Close  Open_forecast  \\\n",
       "2019-08-01  97.351007  84.279030  57.218379  32.793679   27107.470148   \n",
       "2019-08-02  29.007024   9.199107  26.836989  14.102420   27136.477172   \n",
       "2019-08-05  18.212598  31.260721  27.344084  37.304416   27154.689769   \n",
       "2019-08-06  30.009269  17.809171  14.231189   2.628117   27184.699038   \n",
       "2019-08-07   5.421137   7.574763   7.788006  10.916714   27190.120175   \n",
       "\n",
       "            High_forecast  Low_forecast  Close_forecast  \n",
       "2019-08-01   27195.079811  27041.359004    27143.594460  \n",
       "2019-08-02   27204.278918  27068.195994    27157.696879  \n",
       "2019-08-05   27235.539638  27095.540077    27195.001295  \n",
       "2019-08-06   27253.348809  27109.771267    27197.629412  \n",
       "2019-08-07   27260.923571  27117.559272    27208.546126  "
      ]
     },
     "execution_count": 24,
     "metadata": {},
     "output_type": "execute_result"
    }
   ],
   "source": [
    "df_results.head()"
   ]
  },
  {
   "cell_type": "code",
   "execution_count": 25,
   "metadata": {},
   "outputs": [
    {
     "data": {
      "image/png": "[encoded data removed]",
      "text/plain": [
       "<Figure size 1080x576 with 1 Axes>"
      ]
     },
     "metadata": {
      "needs_background": "light"
     },
     "output_type": "display_data"
    }
   ],
   "source": [
    "plt.plot(train['Open'],label='Training Data')\n",
    "plt.plot(test['Open'],label='Test Data')\n",
    "plt.plot(test.index,df_results['Open_forecast'],label='open forecast')\n",
    "plt.legend(loc='best')\n",
    "plt.grid();"
   ]
  },
  {
   "cell_type": "code",
   "execution_count": 28,
   "metadata": {},
   "outputs": [
    {
     "name": "stdout",
     "output_type": "stream",
     "text": [
      "1.5060469429805308\n"
     ]
    }
   ],
   "source": [
    "mape=MAPE(test['Open'].values,df_results['Open_forecast'].values)\n",
    "print(mape)"
   ]
  },
  {
   "cell_type": "code",
   "execution_count": 29,
   "metadata": {},
   "outputs": [
    {
     "name": "stdout",
     "output_type": "stream",
     "text": [
      "502.8417668845172\n"
     ]
    }
   ],
   "source": [
    "from sklearn.metrics import  mean_squared_error\n",
    "rmse = mean_squared_error(test['Open'],df_results['Open_forecast'], squared=False)\n",
    "print(rmse)"
   ]
  },
  {
   "cell_type": "markdown",
   "metadata": {},
   "source": [
    "## END"
   ]
  },
  {
   "cell_type": "markdown",
   "metadata": {},
   "source": [
    "### ARIMA Convergence issue"
   ]
  },
  {
   "cell_type": "code",
   "execution_count": 10,
   "metadata": {},
   "outputs": [],
   "source": [
    "from statsmodels.tsa.arima_model          import  ARIMA"
   ]
  },
  {
   "cell_type": "code",
   "execution_count": 12,
   "metadata": {},
   "outputs": [],
   "source": [
    "df=df[['Open']]"
   ]
  },
  {
   "cell_type": "code",
   "execution_count": 14,
   "metadata": {},
   "outputs": [],
   "source": [
    "model=ARIMA(df,order=(1,0,1))\n",
    "model=model.fit()"
   ]
  },
  {
   "cell_type": "markdown",
   "metadata": {},
   "source": [
    "## if you face convergence issue while training the model, modify model.fit using any one of the following method for parameter estimation.\n",
    "## This is the method  likelihood will use for maximize its value."
   ]
  },
  {
   "cell_type": "code",
   "execution_count": 16,
   "metadata": {},
   "outputs": [],
   "source": [
    "model=ARIMA(df,order=(1,0,1))\n",
    "model=model.fit(method ='css-mle')"
   ]
  },
  {
   "cell_type": "code",
   "execution_count": 17,
   "metadata": {},
   "outputs": [],
   "source": [
    "model=ARIMA(df,order=(1,0,1))\n",
    "model=model.fit(method ='mle')"
   ]
  },
  {
   "cell_type": "code",
   "execution_count": 19,
   "metadata": {},
   "outputs": [],
   "source": [
    "model=ARIMA(df,order=(1,0,1))\n",
    "model=model.fit(method ='css')"
   ]
  }
 ],
 "metadata": {
  "kernelspec": {
   "display_name": "Python 3",
   "language": "python",
   "name": "python3"
  },
  "language_info": {
   "codemirror_mode": {
    "name": "ipython",
    "version": 3
   },
   "file_extension": ".py",
   "mimetype": "text/x-python",
   "name": "python",
   "nbconvert_exporter": "python",
   "pygments_lexer": "ipython3",
   "version": "3.8.5"
  }
 },
 "nbformat": 4,
 "nbformat_minor": 4
}
